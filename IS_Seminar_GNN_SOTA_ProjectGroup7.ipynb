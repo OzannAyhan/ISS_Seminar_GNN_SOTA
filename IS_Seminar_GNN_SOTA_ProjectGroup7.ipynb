{
  "cells": [
    {
      "cell_type": "markdown",
      "metadata": {
        "id": "MNfiD2L2-gXF"
      },
      "source": [
        "# **Git Repo Cloning and Importing/Installing Necessary Packages**"
      ]
    },
    {
      "cell_type": "code",
      "execution_count": null,
      "metadata": {
        "colab": {
          "base_uri": "https://localhost:8080/"
        },
        "id": "ZAGL5_eKFbd1",
        "outputId": "1911feef-d7df-40d9-e92f-06b476345e8b"
      },
      "outputs": [
        {
          "name": "stdout",
          "output_type": "stream",
          "text": [
            "fatal: destination path 'ISS_Seminar_GNN_SOTA' already exists and is not an empty directory.\n"
          ]
        }
      ],
      "source": [
        "!git clone https://github.com/ISSeminarGNNSOTA/ISS_Seminar_GNN_SOTA.git\n",
        "\n",
        "import sys\n",
        "if not 'ISS_Seminar_GNN_SOTA' in sys.path:\n",
        "    sys.path += ['ISS_Seminar_GNN_SOTA']"
      ]
    },
    {
      "cell_type": "code",
      "execution_count": null,
      "metadata": {
        "id": "Kn3iH9biEGf-"
      },
      "outputs": [],
      "source": [
        "##RUN THIS CELL TO RETRIEVE THE ORIGINAL DATASET\n",
        "##I'VE ZIPPED THE ORIGINAL DATASET AND THEN UPLOADED IT TO THE GIT REPO. AND THIS LINE IS EXTRACTING\n",
        "##THE CSV FILE IN THE ZIP TO 'ISS_Seminar_GNN_SOTA/data/'\n",
        "\n",
        "import zipfile\n",
        "import os\n",
        "\n",
        "# Path to the zip file in your repository\n",
        "zip_file_path = 'ISS_Seminar_GNN_SOTA/data/df_9500_17152.zip'\n",
        "\n",
        "# Directory where you want to extract the files\n",
        "extracted_dir = 'ISS_Seminar_GNN_SOTA/data/'\n",
        "\n",
        "# Create a directory to extract the files\n",
        "os.makedirs(extracted_dir, exist_ok=True)\n",
        "\n",
        "# Extract the contents of the zip file\n",
        "with zipfile.ZipFile(zip_file_path, 'r') as zip_ref:\n",
        "    zip_ref.extractall(extracted_dir)\n",
        "\n",
        "# List the contents of the extracted directory\n",
        "extracted_files = os.listdir(extracted_dir)\n",
        "\n",
        "# Now you can access and work with the CSV files in the extracted directory\n",
        "for file in extracted_files:\n",
        "    if file.endswith('.csv'):\n",
        "        csv_file_path = os.path.join(extracted_dir, file)\n"
      ]
    },
    {
      "cell_type": "code",
      "execution_count": null,
      "metadata": {
        "id": "Pm-xs0KD6-fE"
      },
      "outputs": [],
      "source": [
        "## I think we can use this code to create our requirement file which includes the dependencies.\n",
        "# However, it will include some unnecessary packages that we don't need which is not a blocker but just unnecessary.\n",
        "#pip freeze > requirements.txt"
      ]
    },
    {
      "cell_type": "markdown",
      "metadata": {
        "id": "YwB5YP7Wynkv"
      },
      "source": [
        "**Importing and Installing Necessary Libraries and Modules**"
      ]
    },
    {
      "cell_type": "code",
      "execution_count": null,
      "metadata": {
        "colab": {
          "base_uri": "https://localhost:8080/"
        },
        "id": "hTAjIB8tAsHI",
        "outputId": "2776c7a9-590e-4625-c916-6def6e5c3774"
      },
      "outputs": [
        {
          "name": "stdout",
          "output_type": "stream",
          "text": [
            "Requirement already satisfied: torch_geometric in /usr/local/lib/python3.10/dist-packages (2.5.2)\n",
            "Requirement already satisfied: tqdm in /usr/local/lib/python3.10/dist-packages (from torch_geometric) (4.66.2)\n",
            "Requirement already satisfied: numpy in /usr/local/lib/python3.10/dist-packages (from torch_geometric) (1.25.2)\n",
            "Requirement already satisfied: scipy in /usr/local/lib/python3.10/dist-packages (from torch_geometric) (1.11.4)\n",
            "Requirement already satisfied: fsspec in /usr/local/lib/python3.10/dist-packages (from torch_geometric) (2023.6.0)\n",
            "Requirement already satisfied: jinja2 in /usr/local/lib/python3.10/dist-packages (from torch_geometric) (3.1.3)\n",
            "Requirement already satisfied: aiohttp in /usr/local/lib/python3.10/dist-packages (from torch_geometric) (3.9.3)\n",
            "Requirement already satisfied: requests in /usr/local/lib/python3.10/dist-packages (from torch_geometric) (2.31.0)\n",
            "Requirement already satisfied: pyparsing in /usr/local/lib/python3.10/dist-packages (from torch_geometric) (3.1.2)\n",
            "Requirement already satisfied: scikit-learn in /usr/local/lib/python3.10/dist-packages (from torch_geometric) (1.2.2)\n",
            "Requirement already satisfied: psutil>=5.8.0 in /usr/local/lib/python3.10/dist-packages (from torch_geometric) (5.9.5)\n",
            "Requirement already satisfied: aiosignal>=1.1.2 in /usr/local/lib/python3.10/dist-packages (from aiohttp->torch_geometric) (1.3.1)\n",
            "Requirement already satisfied: attrs>=17.3.0 in /usr/local/lib/python3.10/dist-packages (from aiohttp->torch_geometric) (23.2.0)\n",
            "Requirement already satisfied: frozenlist>=1.1.1 in /usr/local/lib/python3.10/dist-packages (from aiohttp->torch_geometric) (1.4.1)\n",
            "Requirement already satisfied: multidict<7.0,>=4.5 in /usr/local/lib/python3.10/dist-packages (from aiohttp->torch_geometric) (6.0.5)\n",
            "Requirement already satisfied: yarl<2.0,>=1.0 in /usr/local/lib/python3.10/dist-packages (from aiohttp->torch_geometric) (1.9.4)\n",
            "Requirement already satisfied: async-timeout<5.0,>=4.0 in /usr/local/lib/python3.10/dist-packages (from aiohttp->torch_geometric) (4.0.3)\n",
            "Requirement already satisfied: MarkupSafe>=2.0 in /usr/local/lib/python3.10/dist-packages (from jinja2->torch_geometric) (2.1.5)\n",
            "Requirement already satisfied: charset-normalizer<4,>=2 in /usr/local/lib/python3.10/dist-packages (from requests->torch_geometric) (3.3.2)\n",
            "Requirement already satisfied: idna<4,>=2.5 in /usr/local/lib/python3.10/dist-packages (from requests->torch_geometric) (3.6)\n",
            "Requirement already satisfied: urllib3<3,>=1.21.1 in /usr/local/lib/python3.10/dist-packages (from requests->torch_geometric) (2.0.7)\n",
            "Requirement already satisfied: certifi>=2017.4.17 in /usr/local/lib/python3.10/dist-packages (from requests->torch_geometric) (2024.2.2)\n",
            "Requirement already satisfied: joblib>=1.1.1 in /usr/local/lib/python3.10/dist-packages (from scikit-learn->torch_geometric) (1.3.2)\n",
            "Requirement already satisfied: threadpoolctl>=2.0.0 in /usr/local/lib/python3.10/dist-packages (from scikit-learn->torch_geometric) (3.3.0)\n",
            "Requirement already satisfied: sentence_transformers in /usr/local/lib/python3.10/dist-packages (2.6.0)\n",
            "Requirement already satisfied: transformers<5.0.0,>=4.32.0 in /usr/local/lib/python3.10/dist-packages (from sentence_transformers) (4.38.2)\n",
            "Requirement already satisfied: tqdm in /usr/local/lib/python3.10/dist-packages (from sentence_transformers) (4.66.2)\n",
            "Requirement already satisfied: torch>=1.11.0 in /usr/local/lib/python3.10/dist-packages (from sentence_transformers) (2.2.1+cu121)\n",
            "Requirement already satisfied: numpy in /usr/local/lib/python3.10/dist-packages (from sentence_transformers) (1.25.2)\n",
            "Requirement already satisfied: scikit-learn in /usr/local/lib/python3.10/dist-packages (from sentence_transformers) (1.2.2)\n",
            "Requirement already satisfied: scipy in /usr/local/lib/python3.10/dist-packages (from sentence_transformers) (1.11.4)\n",
            "Requirement already satisfied: huggingface-hub>=0.15.1 in /usr/local/lib/python3.10/dist-packages (from sentence_transformers) (0.20.3)\n",
            "Requirement already satisfied: Pillow in /usr/local/lib/python3.10/dist-packages (from sentence_transformers) (9.4.0)\n",
            "Requirement already satisfied: filelock in /usr/local/lib/python3.10/dist-packages (from huggingface-hub>=0.15.1->sentence_transformers) (3.13.1)\n",
            "Requirement already satisfied: fsspec>=2023.5.0 in /usr/local/lib/python3.10/dist-packages (from huggingface-hub>=0.15.1->sentence_transformers) (2023.6.0)\n",
            "Requirement already satisfied: requests in /usr/local/lib/python3.10/dist-packages (from huggingface-hub>=0.15.1->sentence_transformers) (2.31.0)\n",
            "Requirement already satisfied: pyyaml>=5.1 in /usr/local/lib/python3.10/dist-packages (from huggingface-hub>=0.15.1->sentence_transformers) (6.0.1)\n",
            "Requirement already satisfied: typing-extensions>=3.7.4.3 in /usr/local/lib/python3.10/dist-packages (from huggingface-hub>=0.15.1->sentence_transformers) (4.10.0)\n",
            "Requirement already satisfied: packaging>=20.9 in /usr/local/lib/python3.10/dist-packages (from huggingface-hub>=0.15.1->sentence_transformers) (24.0)\n",
            "Requirement already satisfied: sympy in /usr/local/lib/python3.10/dist-packages (from torch>=1.11.0->sentence_transformers) (1.12)\n",
            "Requirement already satisfied: networkx in /usr/local/lib/python3.10/dist-packages (from torch>=1.11.0->sentence_transformers) (2.8.8)\n",
            "Requirement already satisfied: jinja2 in /usr/local/lib/python3.10/dist-packages (from torch>=1.11.0->sentence_transformers) (3.1.3)\n",
            "Requirement already satisfied: nvidia-cuda-nvrtc-cu12==12.1.105 in /usr/local/lib/python3.10/dist-packages (from torch>=1.11.0->sentence_transformers) (12.1.105)\n",
            "Requirement already satisfied: nvidia-cuda-runtime-cu12==12.1.105 in /usr/local/lib/python3.10/dist-packages (from torch>=1.11.0->sentence_transformers) (12.1.105)\n",
            "Requirement already satisfied: nvidia-cuda-cupti-cu12==12.1.105 in /usr/local/lib/python3.10/dist-packages (from torch>=1.11.0->sentence_transformers) (12.1.105)\n",
            "Requirement already satisfied: nvidia-cudnn-cu12==8.9.2.26 in /usr/local/lib/python3.10/dist-packages (from torch>=1.11.0->sentence_transformers) (8.9.2.26)\n",
            "Requirement already satisfied: nvidia-cublas-cu12==12.1.3.1 in /usr/local/lib/python3.10/dist-packages (from torch>=1.11.0->sentence_transformers) (12.1.3.1)\n",
            "Requirement already satisfied: nvidia-cufft-cu12==11.0.2.54 in /usr/local/lib/python3.10/dist-packages (from torch>=1.11.0->sentence_transformers) (11.0.2.54)\n",
            "Requirement already satisfied: nvidia-curand-cu12==10.3.2.106 in /usr/local/lib/python3.10/dist-packages (from torch>=1.11.0->sentence_transformers) (10.3.2.106)\n",
            "Requirement already satisfied: nvidia-cusolver-cu12==11.4.5.107 in /usr/local/lib/python3.10/dist-packages (from torch>=1.11.0->sentence_transformers) (11.4.5.107)\n",
            "Requirement already satisfied: nvidia-cusparse-cu12==12.1.0.106 in /usr/local/lib/python3.10/dist-packages (from torch>=1.11.0->sentence_transformers) (12.1.0.106)\n",
            "Requirement already satisfied: nvidia-nccl-cu12==2.19.3 in /usr/local/lib/python3.10/dist-packages (from torch>=1.11.0->sentence_transformers) (2.19.3)\n",
            "Requirement already satisfied: nvidia-nvtx-cu12==12.1.105 in /usr/local/lib/python3.10/dist-packages (from torch>=1.11.0->sentence_transformers) (12.1.105)\n",
            "Requirement already satisfied: triton==2.2.0 in /usr/local/lib/python3.10/dist-packages (from torch>=1.11.0->sentence_transformers) (2.2.0)\n",
            "Requirement already satisfied: nvidia-nvjitlink-cu12 in /usr/local/lib/python3.10/dist-packages (from nvidia-cusolver-cu12==11.4.5.107->torch>=1.11.0->sentence_transformers) (12.4.99)\n",
            "Requirement already satisfied: regex!=2019.12.17 in /usr/local/lib/python3.10/dist-packages (from transformers<5.0.0,>=4.32.0->sentence_transformers) (2023.12.25)\n",
            "Requirement already satisfied: tokenizers<0.19,>=0.14 in /usr/local/lib/python3.10/dist-packages (from transformers<5.0.0,>=4.32.0->sentence_transformers) (0.15.2)\n",
            "Requirement already satisfied: safetensors>=0.4.1 in /usr/local/lib/python3.10/dist-packages (from transformers<5.0.0,>=4.32.0->sentence_transformers) (0.4.2)\n",
            "Requirement already satisfied: joblib>=1.1.1 in /usr/local/lib/python3.10/dist-packages (from scikit-learn->sentence_transformers) (1.3.2)\n",
            "Requirement already satisfied: threadpoolctl>=2.0.0 in /usr/local/lib/python3.10/dist-packages (from scikit-learn->sentence_transformers) (3.3.0)\n",
            "Requirement already satisfied: MarkupSafe>=2.0 in /usr/local/lib/python3.10/dist-packages (from jinja2->torch>=1.11.0->sentence_transformers) (2.1.5)\n",
            "Requirement already satisfied: charset-normalizer<4,>=2 in /usr/local/lib/python3.10/dist-packages (from requests->huggingface-hub>=0.15.1->sentence_transformers) (3.3.2)\n",
            "Requirement already satisfied: idna<4,>=2.5 in /usr/local/lib/python3.10/dist-packages (from requests->huggingface-hub>=0.15.1->sentence_transformers) (3.6)\n",
            "Requirement already satisfied: urllib3<3,>=1.21.1 in /usr/local/lib/python3.10/dist-packages (from requests->huggingface-hub>=0.15.1->sentence_transformers) (2.0.7)\n",
            "Requirement already satisfied: certifi>=2017.4.17 in /usr/local/lib/python3.10/dist-packages (from requests->huggingface-hub>=0.15.1->sentence_transformers) (2024.2.2)\n",
            "Requirement already satisfied: mpmath>=0.19 in /usr/local/lib/python3.10/dist-packages (from sympy->torch>=1.11.0->sentence_transformers) (1.3.0)\n",
            "Requirement already satisfied: node2vec in /usr/local/lib/python3.10/dist-packages (0.4.6)\n",
            "Requirement already satisfied: networkx in /usr/local/lib/python3.10/dist-packages (2.8.8)\n",
            "Requirement already satisfied: gensim<5.0.0,>=4.1.2 in /usr/local/lib/python3.10/dist-packages (from node2vec) (4.3.2)\n",
            "Requirement already satisfied: joblib<2.0.0,>=1.1.0 in /usr/local/lib/python3.10/dist-packages (from node2vec) (1.3.2)\n",
            "Requirement already satisfied: numpy<2.0.0,>=1.19.5 in /usr/local/lib/python3.10/dist-packages (from node2vec) (1.25.2)\n",
            "Requirement already satisfied: tqdm<5.0.0,>=4.55.1 in /usr/local/lib/python3.10/dist-packages (from node2vec) (4.66.2)\n",
            "Requirement already satisfied: scipy>=1.7.0 in /usr/local/lib/python3.10/dist-packages (from gensim<5.0.0,>=4.1.2->node2vec) (1.11.4)\n",
            "Requirement already satisfied: smart-open>=1.8.1 in /usr/local/lib/python3.10/dist-packages (from gensim<5.0.0,>=4.1.2->node2vec) (6.4.0)\n",
            "Requirement already satisfied: optuna in /usr/local/lib/python3.10/dist-packages (3.6.0)\n",
            "Requirement already satisfied: alembic>=1.5.0 in /usr/local/lib/python3.10/dist-packages (from optuna) (1.13.1)\n",
            "Requirement already satisfied: colorlog in /usr/local/lib/python3.10/dist-packages (from optuna) (6.8.2)\n",
            "Requirement already satisfied: numpy in /usr/local/lib/python3.10/dist-packages (from optuna) (1.25.2)\n",
            "Requirement already satisfied: packaging>=20.0 in /usr/local/lib/python3.10/dist-packages (from optuna) (24.0)\n",
            "Requirement already satisfied: sqlalchemy>=1.3.0 in /usr/local/lib/python3.10/dist-packages (from optuna) (2.0.28)\n",
            "Requirement already satisfied: tqdm in /usr/local/lib/python3.10/dist-packages (from optuna) (4.66.2)\n",
            "Requirement already satisfied: PyYAML in /usr/local/lib/python3.10/dist-packages (from optuna) (6.0.1)\n",
            "Requirement already satisfied: Mako in /usr/local/lib/python3.10/dist-packages (from alembic>=1.5.0->optuna) (1.3.2)\n",
            "Requirement already satisfied: typing-extensions>=4 in /usr/local/lib/python3.10/dist-packages (from alembic>=1.5.0->optuna) (4.10.0)\n",
            "Requirement already satisfied: greenlet!=0.4.17 in /usr/local/lib/python3.10/dist-packages (from sqlalchemy>=1.3.0->optuna) (3.0.3)\n",
            "Requirement already satisfied: MarkupSafe>=0.9.2 in /usr/local/lib/python3.10/dist-packages (from Mako->alembic>=1.5.0->optuna) (2.1.5)\n"
          ]
        }
      ],
      "source": [
        "!pip install torch_geometric\n",
        "!pip install sentence_transformers\n",
        "!pip install node2vec networkx\n",
        "!pip install optuna"
      ]
    },
    {
      "cell_type": "code",
      "execution_count": null,
      "metadata": {
        "id": "O5phTp2M3ker"
      },
      "outputs": [],
      "source": [
        "import torch\n",
        "import torch.nn as nn\n",
        "import torch.nn.functional as F\n",
        "import torch.optim as optim\n",
        "import optuna\n",
        "import pandas as pd\n",
        "import numpy as np\n",
        "from torch_geometric.data import HeteroData\n",
        "from sklearn.metrics import classification_report\n",
        "import matplotlib.pyplot as plt\n",
        "from sklearn.metrics import ConfusionMatrixDisplay\n",
        "from sklearn.metrics import confusion_matrix\n",
        "\n",
        "from data_preprocessing.movtit_nlp_v3 import MovieTitlesProcessor\n",
        "from data_preprocessing.data_preprocess_v5 import DataPreprocessor\n",
        "from data_preprocessing.graphDataBuilder2Fold import GraphDataBuilder2Fold\n",
        "from data_preprocessing.graphSplitter import GraphSplitter\n",
        "from models.graph_predictor import Predictor\n",
        "from models.graph_attentional_network import Encoder\n",
        "from models.graph_convolutional_network import Encoder\n",
        "from models.graph_sage_network import Encoder\n",
        "from models.graph_attentional_network import GAT\n",
        "from models.graph_convolutional_network import GCN\n",
        "from models.graph_sage_network import GraphSAGE\n",
        "from hyperparameter_optimization.graphStudy import GraphStudy\n",
        "from data_preprocessing.dataToGraph import DataToGraph\n",
        "from models.benchmark.lr_ridge import LRModel\n",
        "from models.benchmark.mlp import MLPModelOptimized\n",
        "from models.benchmark.xgb import XGBModel"
      ]
    },
    {
      "cell_type": "markdown",
      "metadata": {
        "id": "6nsvjlp66hr5"
      },
      "source": [
        "# **Data Preprocessing**"
      ]
    },
    {
      "cell_type": "markdown",
      "metadata": {
        "id": "wXSeM1I73P_t"
      },
      "source": [
        "**Initial Preprocessing and Create Main Variables**"
      ]
    },
    {
      "cell_type": "code",
      "execution_count": null,
      "metadata": {
        "id": "lw9Ym1YUKZ8C"
      },
      "outputs": [],
      "source": [
        "#Loading the Data\n",
        "df = pd.read_csv('ISS_Seminar_GNN_SOTA/data/df_9500_17152.csv')\n",
        "df_movie = pd.read_excel('ISS_Seminar_GNN_SOTA/data/movie_titles.xlsx')\n",
        "\n",
        "#Initializing Data Preprocessor\n",
        "preprocessor = DataPreprocessor(df, df_movie)\n",
        "\n",
        "#Filtering Data\n",
        "preprocessor.filter_data(0,50)\n",
        "\n",
        "\n",
        "#To get the new variables (avg, count, releaseage etc.) on ratings dataframe and to get movieInfo and userInfo dataframes\n",
        "preprocessor.create_rating_user_movie_info()\n"
      ]
    },
    {
      "cell_type": "markdown",
      "metadata": {
        "id": "6Sf-QeKq7heo"
      },
      "source": [
        "**Perform NLP and Get Dummy Clusters**"
      ]
    },
    {
      "cell_type": "code",
      "execution_count": null,
      "metadata": {
        "id": "2YXxPgxN0DSS"
      },
      "outputs": [],
      "source": [
        "#To apply NLP to movie_titles and get cluster dummies\n",
        "#preprocessor.perform_nlp_tasks()  (This line is in comment because it does not improve the models.)"
      ]
    },
    {
      "cell_type": "markdown",
      "metadata": {
        "id": "sPp162Em20H2"
      },
      "source": [
        "**Get Embeddings with Node2Vec or DeepWalk**"
      ]
    },
    {
      "cell_type": "code",
      "execution_count": null,
      "metadata": {
        "id": "Jr_umb8RkHOG"
      },
      "outputs": [],
      "source": [
        "#To apply node2vec in order to get node embeddings\n",
        "#preprocessor.get_node_embeddings_node2vec()  (This line is in comment because of technical incapabilities.)\n",
        "\n",
        "#To apply deepwalk in order to get node embeddings\n",
        "#preprocessor.get_node_embeddings_deepwalk()  (This line is in comment because of technical incapabilities.)"
      ]
    },
    {
      "cell_type": "markdown",
      "metadata": {
        "id": "unuUxIEa0eEM"
      },
      "source": [
        "**Presave Processed Input Data**"
      ]
    },
    {
      "cell_type": "code",
      "execution_count": null,
      "metadata": {
        "id": "3RXlCeq50jCk"
      },
      "outputs": [],
      "source": [
        "pre_processed_ratings = preprocessor.ratings\n",
        "userInfo = preprocessor.userInfo\n",
        "movieInfo = preprocessor.movieInfo"
      ]
    },
    {
      "cell_type": "markdown",
      "metadata": {
        "id": "swA_k-J48k57"
      },
      "source": [
        "**Build the Graph Data**"
      ]
    },
    {
      "cell_type": "code",
      "execution_count": null,
      "metadata": {
        "id": "nmiqfCWg8mzI"
      },
      "outputs": [],
      "source": [
        "data_builder = data_preprocessing.GraphDataBuilder2Fold(userInfo, movieInfo, pre_processed_ratings)\n",
        "data, train_data_1, val_data_1, train_data_2, val_data_2, train_data_final, test_data = data_builder.build_data()"
      ]
    },
    {
      "cell_type": "markdown",
      "metadata": {
        "id": "Wg8_PxPS-VQJ"
      },
      "source": [
        "# **Models**"
      ]
    },
    {
      "cell_type": "markdown",
      "metadata": {
        "id": "sw4d-d2O6nA_"
      },
      "source": [
        "## **Benchmark Models**"
      ]
    },
    {
      "cell_type": "markdown",
      "metadata": {
        "id": "c_WVDU_Q0N_T"
      },
      "source": [
        "### **XGBoost**"
      ]
    },
    {
      "cell_type": "markdown",
      "metadata": {
        "id": "5rjVmMDE7dyL"
      },
      "source": [
        "Train and Evaluate the Model"
      ]
    },
    {
      "cell_type": "code",
      "execution_count": null,
      "metadata": {
        "colab": {
          "base_uri": "https://localhost:8080/"
        },
        "id": "f7mJhIZel9u_",
        "outputId": "aecf8dd5-17d9-4b5e-ffe3-861444234f22"
      },
      "outputs": [
        {
          "name": "stderr",
          "output_type": "stream",
          "text": [
            "[I 2024-03-23 15:44:48,893] A new study created in memory with name: no-name-5b3f9129-d3b4-4ce0-8217-9e8ab4a05dca\n",
            "[I 2024-03-23 15:44:49,056] Trial 0 finished with value: 0.7705667097705908 and parameters: {'colsample_bytree': 0.8711727029000264, 'learning_rate': 0.0739516718594795, 'max_depth': 10, 'alpha': 88.66778833060329, 'n_estimators': 190}. Best is trial 0 with value: 0.7705667097705908.\n",
            "[I 2024-03-23 15:44:49,223] Trial 1 finished with value: 0.7658307360203422 and parameters: {'colsample_bytree': 0.33413702450438554, 'learning_rate': 0.061114288157509224, 'max_depth': 19, 'alpha': 17.760784609692926, 'n_estimators': 236}. Best is trial 1 with value: 0.7658307360203422.\n",
            "[I 2024-03-23 15:44:49,468] Trial 2 finished with value: 0.7754696133885566 and parameters: {'colsample_bytree': 0.8494260159994341, 'learning_rate': 0.20121413806988833, 'max_depth': 6, 'alpha': 3.6949691224394954, 'n_estimators': 235}. Best is trial 1 with value: 0.7658307360203422.\n",
            "[I 2024-03-23 15:44:49,544] Trial 3 finished with value: 0.7768977709933567 and parameters: {'colsample_bytree': 0.2683402917767336, 'learning_rate': 0.11766302571004994, 'max_depth': 6, 'alpha': 54.12897338423678, 'n_estimators': 95}. Best is trial 1 with value: 0.7658307360203422.\n",
            "[I 2024-03-23 15:44:49,640] Trial 4 finished with value: 0.769780351289264 and parameters: {'colsample_bytree': 0.6983927515610443, 'learning_rate': 0.2869568397923893, 'max_depth': 6, 'alpha': 84.15673492909855, 'n_estimators': 176}. Best is trial 1 with value: 0.7658307360203422.\n",
            "[I 2024-03-23 15:44:49,920] Trial 5 finished with value: 0.8202702218209323 and parameters: {'colsample_bytree': 0.3870014550740485, 'learning_rate': 0.018780951632357226, 'max_depth': 11, 'alpha': 59.69916345233417, 'n_estimators': 232}. Best is trial 1 with value: 0.7658307360203422.\n",
            "[I 2024-03-23 15:44:50,226] Trial 6 finished with value: 0.7692374575233871 and parameters: {'colsample_bytree': 0.49645068679355797, 'learning_rate': 0.1634007291555238, 'max_depth': 15, 'alpha': 3.7064736598749426, 'n_estimators': 126}. Best is trial 1 with value: 0.7658307360203422.\n",
            "[I 2024-03-23 15:44:50,319] Trial 7 finished with value: 0.7629901737769575 and parameters: {'colsample_bytree': 0.7062315729588612, 'learning_rate': 0.13286687419400117, 'max_depth': 10, 'alpha': 65.09282666356741, 'n_estimators': 93}. Best is trial 7 with value: 0.7629901737769575.\n",
            "[I 2024-03-23 15:44:50,395] Trial 8 finished with value: 0.7588169658403252 and parameters: {'colsample_bytree': 0.6839311521178799, 'learning_rate': 0.16708644062961825, 'max_depth': 19, 'alpha': 48.862847328820976, 'n_estimators': 63}. Best is trial 8 with value: 0.7588169658403252.\n",
            "[I 2024-03-23 15:44:50,566] Trial 9 finished with value: 0.7638689447508226 and parameters: {'colsample_bytree': 0.11707042117528227, 'learning_rate': 0.26339480841669694, 'max_depth': 19, 'alpha': 17.09109565945448, 'n_estimators': 294}. Best is trial 8 with value: 0.7588169658403252.\n",
            "[I 2024-03-23 15:44:50,669] Trial 10 finished with value: 0.755476950866552 and parameters: {'colsample_bytree': 0.9816392997712826, 'learning_rate': 0.2178019264690949, 'max_depth': 15, 'alpha': 36.02626125807008, 'n_estimators': 58}. Best is trial 10 with value: 0.755476950866552.\n",
            "[I 2024-03-23 15:44:50,787] Trial 11 finished with value: 0.7549623774533238 and parameters: {'colsample_bytree': 0.9655532221422511, 'learning_rate': 0.2159315237028899, 'max_depth': 15, 'alpha': 32.41562200208371, 'n_estimators': 62}. Best is trial 11 with value: 0.7549623774533238.\n",
            "[I 2024-03-23 15:44:50,917] Trial 12 finished with value: 0.7557854112844162 and parameters: {'colsample_bytree': 0.9832864851653128, 'learning_rate': 0.2296679768119948, 'max_depth': 15, 'alpha': 34.98179012025974, 'n_estimators': 57}. Best is trial 11 with value: 0.7549623774533238.\n",
            "[I 2024-03-23 15:44:51,118] Trial 13 finished with value: 0.7556660106873576 and parameters: {'colsample_bytree': 0.9965047400786445, 'learning_rate': 0.22295539035407586, 'max_depth': 15, 'alpha': 35.13888448070382, 'n_estimators': 117}. Best is trial 11 with value: 0.7549623774533238.\n",
            "[I 2024-03-23 15:44:51,260] Trial 14 finished with value: 0.75552775940293 and parameters: {'colsample_bytree': 0.8247850611428298, 'learning_rate': 0.2507161934498752, 'max_depth': 13, 'alpha': 35.200152885725615, 'n_estimators': 134}. Best is trial 11 with value: 0.7549623774533238.\n",
            "[I 2024-03-23 15:44:51,366] Trial 15 finished with value: 0.7549403714746541 and parameters: {'colsample_bytree': 0.5959723191931039, 'learning_rate': 0.18997458462949235, 'max_depth': 17, 'alpha': 28.54657047747111, 'n_estimators': 81}. Best is trial 15 with value: 0.7549403714746541.\n",
            "[I 2024-03-23 15:44:51,528] Trial 16 finished with value: 0.7518936630982571 and parameters: {'colsample_bytree': 0.5650824840777907, 'learning_rate': 0.1872229659394361, 'max_depth': 17, 'alpha': 20.041354608640802, 'n_estimators': 152}. Best is trial 16 with value: 0.7518936630982571.\n",
            "[I 2024-03-23 15:44:51,694] Trial 17 finished with value: 0.7513463231675844 and parameters: {'colsample_bytree': 0.5595870376491746, 'learning_rate': 0.181761158080516, 'max_depth': 17, 'alpha': 17.352902864606065, 'n_estimators': 160}. Best is trial 17 with value: 0.7513463231675844.\n",
            "[I 2024-03-23 15:44:51,842] Trial 18 finished with value: 0.7511887986449499 and parameters: {'colsample_bytree': 0.5018868609293824, 'learning_rate': 0.11775084193208261, 'max_depth': 3, 'alpha': 16.759970539440786, 'n_estimators': 153}. Best is trial 18 with value: 0.7511887986449499.\n",
            "[I 2024-03-23 15:44:52,008] Trial 19 finished with value: 0.7489257665922878 and parameters: {'colsample_bytree': 0.44061125183567035, 'learning_rate': 0.10730640944179616, 'max_depth': 3, 'alpha': 10.092278872654482, 'n_estimators': 204}. Best is trial 19 with value: 0.7489257665922878.\n",
            "[I 2024-03-23 15:44:52,178] Trial 20 finished with value: 0.7498220747069821 and parameters: {'colsample_bytree': 0.4700763501504598, 'learning_rate': 0.09771232635470348, 'max_depth': 3, 'alpha': 1.7097883327436136, 'n_estimators': 203}. Best is trial 19 with value: 0.7489257665922878.\n",
            "[I 2024-03-23 15:44:52,345] Trial 21 finished with value: 0.7493860075861637 and parameters: {'colsample_bytree': 0.46588718423475656, 'learning_rate': 0.1035499214490271, 'max_depth': 3, 'alpha': 1.8642819215261461, 'n_estimators': 196}. Best is trial 19 with value: 0.7489257665922878.\n",
            "[I 2024-03-23 15:44:52,519] Trial 22 finished with value: 0.7640319723185512 and parameters: {'colsample_bytree': 0.3878186408066456, 'learning_rate': 0.08107751413816726, 'max_depth': 3, 'alpha': 1.4992890936380547, 'n_estimators': 205}. Best is trial 19 with value: 0.7489257665922878.\n",
            "[I 2024-03-23 15:44:52,836] Trial 23 finished with value: 0.7631039182429677 and parameters: {'colsample_bytree': 0.24149461238578798, 'learning_rate': 0.09521055365117723, 'max_depth': 4, 'alpha': 9.059130641214008, 'n_estimators': 212}. Best is trial 19 with value: 0.7489257665922878.\n",
            "[I 2024-03-23 15:44:53,535] Trial 24 finished with value: 0.7503598060756856 and parameters: {'colsample_bytree': 0.44517949560590975, 'learning_rate': 0.04601687608713293, 'max_depth': 8, 'alpha': 8.985731281485645, 'n_estimators': 285}. Best is trial 19 with value: 0.7489257665922878.\n",
            "[I 2024-03-23 15:44:53,929] Trial 25 finished with value: 0.7649405112100873 and parameters: {'colsample_bytree': 0.2730878446618891, 'learning_rate': 0.12995982394244215, 'max_depth': 5, 'alpha': 25.058040770573275, 'n_estimators': 273}. Best is trial 19 with value: 0.7489257665922878.\n",
            "[I 2024-03-23 15:44:54,585] Trial 26 finished with value: 0.752454836360142 and parameters: {'colsample_bytree': 0.629514057309257, 'learning_rate': 0.10288001602094914, 'max_depth': 8, 'alpha': 9.497946197647984, 'n_estimators': 263}. Best is trial 19 with value: 0.7489257665922878.\n",
            "[I 2024-03-23 15:44:54,849] Trial 27 finished with value: 0.7594628951443623 and parameters: {'colsample_bytree': 0.4545262138327596, 'learning_rate': 0.14648028493192122, 'max_depth': 4, 'alpha': 44.14366394923414, 'n_estimators': 210}. Best is trial 19 with value: 0.7489257665922878.\n",
            "[I 2024-03-23 15:44:55,209] Trial 28 finished with value: 0.8244348575334675 and parameters: {'colsample_bytree': 0.17444150649815715, 'learning_rate': 0.023000749726715716, 'max_depth': 8, 'alpha': 76.553441960388, 'n_estimators': 183}. Best is trial 19 with value: 0.7489257665922878.\n",
            "[I 2024-03-23 15:44:55,486] Trial 29 finished with value: 0.7648579329656655 and parameters: {'colsample_bytree': 0.36157828558368676, 'learning_rate': 0.060730420157664035, 'max_depth': 3, 'alpha': 10.008931639297135, 'n_estimators': 191}. Best is trial 19 with value: 0.7489257665922878.\n",
            "[I 2024-03-23 15:44:56,191] Trial 30 finished with value: 0.7677395013908873 and parameters: {'colsample_bytree': 0.46283184376495945, 'learning_rate': 0.08702049482446121, 'max_depth': 5, 'alpha': 0.7298413188068731, 'n_estimators': 253}. Best is trial 19 with value: 0.7489257665922878.\n",
            "[I 2024-03-23 15:44:57,088] Trial 31 finished with value: 0.7497020730899595 and parameters: {'colsample_bytree': 0.43044838950149467, 'learning_rate': 0.041846449992612056, 'max_depth': 8, 'alpha': 10.668383142424707, 'n_estimators': 297}. Best is trial 19 with value: 0.7489257665922878.\n",
            "[I 2024-03-23 15:44:57,414] Trial 32 finished with value: 0.7672195494578584 and parameters: {'colsample_bytree': 0.3318133614026227, 'learning_rate': 0.06535178826645378, 'max_depth': 7, 'alpha': 23.599339218747147, 'n_estimators': 222}. Best is trial 19 with value: 0.7489257665922878.\n",
            "[I 2024-03-23 15:44:58,230] Trial 33 finished with value: 0.749362862261779 and parameters: {'colsample_bytree': 0.4153198225393534, 'learning_rate': 0.04397558258336546, 'max_depth': 5, 'alpha': 10.612843248496922, 'n_estimators': 249}. Best is trial 19 with value: 0.7489257665922878.\n",
            "[I 2024-03-23 15:44:59,343] Trial 34 finished with value: 0.7674510963208787 and parameters: {'colsample_bytree': 0.3984785228058376, 'learning_rate': 0.04210160577959626, 'max_depth': 5, 'alpha': 11.452356156299924, 'n_estimators': 247}. Best is trial 19 with value: 0.7489257665922878.\n",
            "[I 2024-03-23 15:45:00,169] Trial 35 finished with value: 0.7676284879337328 and parameters: {'colsample_bytree': 0.3130816697286344, 'learning_rate': 0.03921679952313918, 'max_depth': 9, 'alpha': 14.386063967581023, 'n_estimators': 281}. Best is trial 19 with value: 0.7489257665922878.\n",
            "[I 2024-03-23 15:45:00,746] Trial 36 finished with value: 0.7522905057829901 and parameters: {'colsample_bytree': 0.5195425652203126, 'learning_rate': 0.07277564533631996, 'max_depth': 6, 'alpha': 22.779939503827485, 'n_estimators': 298}. Best is trial 19 with value: 0.7489257665922878.\n",
            "[I 2024-03-23 15:45:01,128] Trial 37 finished with value: 0.7972577198381543 and parameters: {'colsample_bytree': 0.4099587625703372, 'learning_rate': 0.018097979270722372, 'max_depth': 4, 'alpha': 92.15198333045116, 'n_estimators': 239}. Best is trial 19 with value: 0.7489257665922878.\n",
            "[I 2024-03-23 15:45:01,506] Trial 38 finished with value: 0.765099947559384 and parameters: {'colsample_bytree': 0.2988015333468437, 'learning_rate': 0.05642356242679624, 'max_depth': 7, 'alpha': 6.5181543157989195, 'n_estimators': 229}. Best is trial 19 with value: 0.7489257665922878.\n",
            "[I 2024-03-23 15:45:01,913] Trial 39 finished with value: 0.7657600040506813 and parameters: {'colsample_bytree': 0.237867420845004, 'learning_rate': 0.1098656896133871, 'max_depth': 11, 'alpha': 27.943441646646036, 'n_estimators': 262}. Best is trial 19 with value: 0.7489257665922878.\n",
            "[I 2024-03-23 15:45:02,364] Trial 40 finished with value: 0.8247950137826603 and parameters: {'colsample_bytree': 0.6332186437580608, 'learning_rate': 0.010163231209804308, 'max_depth': 7, 'alpha': 74.18663369642334, 'n_estimators': 172}. Best is trial 19 with value: 0.7489257665922878.\n",
            "[I 2024-03-23 15:45:02,772] Trial 41 finished with value: 0.7634419620809898 and parameters: {'colsample_bytree': 0.44647935527980415, 'learning_rate': 0.1464830071623233, 'max_depth': 4, 'alpha': 0.028552861373464467, 'n_estimators': 200}. Best is trial 19 with value: 0.7489257665922878.\n",
            "[I 2024-03-23 15:45:03,097] Trial 42 finished with value: 0.7483849314962576 and parameters: {'colsample_bytree': 0.5235282618991444, 'learning_rate': 0.08821385026332972, 'max_depth': 3, 'alpha': 5.069831013176897, 'n_estimators': 218}. Best is trial 42 with value: 0.7483849314962576.\n",
            "[I 2024-03-23 15:45:03,743] Trial 43 finished with value: 0.752120936924132 and parameters: {'colsample_bytree': 0.5306595101353474, 'learning_rate': 0.03255246250604789, 'max_depth': 5, 'alpha': 13.583385510887648, 'n_estimators': 221}. Best is trial 42 with value: 0.7483849314962576.\n",
            "[I 2024-03-23 15:45:04,645] Trial 44 finished with value: 0.7525855979163794 and parameters: {'colsample_bytree': 0.762717174897469, 'learning_rate': 0.07913638888156392, 'max_depth': 6, 'alpha': 6.380210457907633, 'n_estimators': 193}. Best is trial 42 with value: 0.7483849314962576.\n",
            "[I 2024-03-23 15:45:05,429] Trial 45 finished with value: 0.7648957793210758 and parameters: {'colsample_bytree': 0.3714500806607473, 'learning_rate': 0.05390859233396924, 'max_depth': 4, 'alpha': 4.876197459447522, 'n_estimators': 239}. Best is trial 42 with value: 0.7483849314962576.\n",
            "[I 2024-03-23 15:45:05,827] Trial 46 finished with value: 0.749783949379381 and parameters: {'colsample_bytree': 0.42265002668791435, 'learning_rate': 0.11961217144616591, 'max_depth': 6, 'alpha': 14.420731646505327, 'n_estimators': 175}. Best is trial 42 with value: 0.7483849314962576.\n",
            "[I 2024-03-23 15:45:06,186] Trial 47 finished with value: 0.7473407350013024 and parameters: {'colsample_bytree': 0.6047824265178322, 'learning_rate': 0.13130183222567415, 'max_depth': 3, 'alpha': 4.777464163462096, 'n_estimators': 222}. Best is trial 47 with value: 0.7473407350013024.\n",
            "[I 2024-03-23 15:45:06,564] Trial 48 finished with value: 0.7734815840006459 and parameters: {'colsample_bytree': 0.6162029719168907, 'learning_rate': 0.13438812628266578, 'max_depth': 3, 'alpha': 99.80685991397806, 'n_estimators': 221}. Best is trial 47 with value: 0.7473407350013024.\n",
            "[I 2024-03-23 15:45:06,876] Trial 49 finished with value: 0.7579782275679247 and parameters: {'colsample_bytree': 0.6839729219658223, 'learning_rate': 0.1653348407618589, 'max_depth': 3, 'alpha': 45.027083814287856, 'n_estimators': 250}. Best is trial 47 with value: 0.7473407350013024.\n"
          ]
        },
        {
          "name": "stdout",
          "output_type": "stream",
          "text": [
            "Best trial: 47\n",
            "Fold RMSE scores: [0.7408907445242126, 0.7537907254783922]\n",
            "Best parameters: {'colsample_bytree': 0.6047824265178322, 'learning_rate': 0.13130183222567415, 'max_depth': 3, 'alpha': 4.777464163462096, 'n_estimators': 222}\n",
            "Model trained. Time taken: 0.25 seconds\n",
            "Training MSE: 0.5159, Training RMSE: 0.7183, Training MAE: 0.5288\n",
            "Test MSE: 0.5729, Test RMSE: 0.7569, Test MAE: 0.5636\n"
          ]
        }
      ],
      "source": [
        "# Initialize the MLP model\n",
        "xgb_model = XGBModel(pre_processed_ratings)\n",
        "\n",
        "# Tune hyperparameters\n",
        "xgb_model.tune_hyperparameters(n_trials=50)\n",
        "\n",
        "# Train and evaluate the model\n",
        "xgb_model.train_model()\n"
      ]
    },
    {
      "cell_type": "markdown",
      "metadata": {
        "id": "ZbhSBCv-7kMS"
      },
      "source": [
        "Create the Classification Report"
      ]
    },
    {
      "cell_type": "code",
      "execution_count": null,
      "metadata": {
        "colab": {
          "base_uri": "https://localhost:8080/"
        },
        "id": "tZ71QjIQ7oMz",
        "outputId": "1c99ca9b-f9ac-465d-fbf6-6faa5c165c2b"
      },
      "outputs": [
        {
          "name": "stdout",
          "output_type": "stream",
          "text": [
            "              precision    recall  f1-score   support\n",
            "\n",
            "           1       1.00      0.15      0.26        41\n",
            "           2       0.45      0.18      0.25        85\n",
            "           3       0.47      0.57      0.52       305\n",
            "           4       0.58      0.74      0.65       507\n",
            "           5       0.74      0.30      0.43       191\n",
            "\n",
            "    accuracy                           0.56      1129\n",
            "   macro avg       0.65      0.39      0.42      1129\n",
            "weighted avg       0.59      0.56      0.53      1129\n",
            "\n"
          ]
        }
      ],
      "source": [
        "# Access the predicted y values for the test set\n",
        "y_pred_test = xgb_model.model.predict(xgb_model.X_test)\n",
        "\n",
        "round_preds = np.round(y_pred_test)\n",
        "preds_rounded = np.where(round_preds < 1, 1, np.where(round_preds > 5, 5, round_preds))\n",
        "labels = xgb_model.ratings[['Rating']][-int(len(xgb_model.ratings) * 0.1):].values\n",
        "print(classification_report(y_true=labels, y_pred=preds_rounded))"
      ]
    },
    {
      "cell_type": "markdown",
      "metadata": {
        "id": "JtrvwvFs7sp-"
      },
      "source": [
        "Plot the Confusion Matrix"
      ]
    },
    {
      "cell_type": "code",
      "execution_count": null,
      "metadata": {
        "colab": {
          "base_uri": "https://localhost:8080/",
          "height": 815
        },
        "id": "6Boei4-271Uq",
        "outputId": "37a8c96d-82ea-4230-cc45-c5c2b195cc95"
      },
      "outputs": [
        {
          "data": {
            "image/png": "[encoded data removed]",
            "text/plain": [
              "<Figure size 1000x1000 with 2 Axes>"
            ]
          },
          "metadata": {},
          "output_type": "display_data"
        }
      ],
      "source": [
        "# Convert labels to unique values\n",
        "labels_tensor = labels\n",
        "unique_labels = np.unique(labels)\n",
        "\n",
        "# Assuming y_pred and y_test are numpy arrays\n",
        "# y_pred = np.round(preds.detach().numpy())\n",
        "# Assuming preds_rounded is defined\n",
        "y_pred = preds_rounded\n",
        "y_test = labels\n",
        "\n",
        "# Calculate confusion matrix\n",
        "cm = confusion_matrix(labels, y_pred)\n",
        "\n",
        "# Plot confusion matrix\n",
        "disp = ConfusionMatrixDisplay(confusion_matrix=cm, display_labels=unique_labels)\n",
        "fig, ax = plt.subplots(figsize=(10, 10))\n",
        "disp.plot(ax=ax)\n",
        "plt.show()\n"
      ]
    },
    {
      "cell_type": "markdown",
      "metadata": {
        "id": "QlzND6S71AOP"
      },
      "source": [
        "### **MLP**"
      ]
    },
    {
      "cell_type": "markdown",
      "metadata": {
        "id": "UMmpLSQk8FRh"
      },
      "source": [
        "Train and Evaluate the Model"
      ]
    },
    {
      "cell_type": "code",
      "execution_count": null,
      "metadata": {
        "colab": {
          "base_uri": "https://localhost:8080/"
        },
        "id": "JZ0IkQ6b1Opf",
        "outputId": "75719270-37c1-4451-c823-87c792aaa441"
      },
      "outputs": [
        {
          "name": "stderr",
          "output_type": "stream",
          "text": [
            "[I 2024-03-23 15:45:07,997] A new study created in memory with name: no-name-817e8d12-b428-4021-99e6-6c2579213bb6\n",
            "[I 2024-03-23 15:45:18,654] Trial 0 finished with value: 0.5562143148913189 and parameters: {'hidden_layer_sizes_option': '50', 'activation': 'relu', 'solver': 'sgd', 'alpha': 0.08191106089089532, 'learning_rate_init': 0.0029979648171385804}. Best is trial 0 with value: 0.5562143148913189.\n",
            "[I 2024-03-23 15:45:35,317] Trial 1 finished with value: 0.5565384456049054 and parameters: {'hidden_layer_sizes_option': '100', 'activation': 'relu', 'solver': 'adam', 'alpha': 0.0046509558279498745, 'learning_rate_init': 0.00017317135404797005}. Best is trial 0 with value: 0.5562143148913189.\n",
            "[I 2024-03-23 15:45:51,792] Trial 2 finished with value: 0.5720683792786654 and parameters: {'hidden_layer_sizes_option': '100', 'activation': 'tanh', 'solver': 'adam', 'alpha': 1.1910043094236592e-05, 'learning_rate_init': 7.71676551893507e-05}. Best is trial 0 with value: 0.5562143148913189.\n",
            "[I 2024-03-23 15:45:58,558] Trial 3 finished with value: 0.5583468783091168 and parameters: {'hidden_layer_sizes_option': '50', 'activation': 'relu', 'solver': 'adam', 'alpha': 0.013257662597614295, 'learning_rate_init': 0.0010545671967609135}. Best is trial 0 with value: 0.5562143148913189.\n",
            "[I 2024-03-23 15:46:33,634] Trial 4 finished with value: 0.5741963778557961 and parameters: {'hidden_layer_sizes_option': '100', 'activation': 'relu', 'solver': 'adam', 'alpha': 0.00011833546859344874, 'learning_rate_init': 2.6315346688031823e-05}. Best is trial 0 with value: 0.5562143148913189.\n",
            "[I 2024-03-23 15:50:12,307] Trial 5 finished with value: 0.6270987952889044 and parameters: {'hidden_layer_sizes_option': '100_100', 'activation': 'tanh', 'solver': 'adam', 'alpha': 0.053543180715861165, 'learning_rate_init': 1.3544178982144182e-06}. Best is trial 0 with value: 0.5562143148913189.\n",
            "[I 2024-03-23 15:50:29,546] Trial 6 finished with value: 0.5614357703530934 and parameters: {'hidden_layer_sizes_option': '100', 'activation': 'tanh', 'solver': 'adam', 'alpha': 0.0023339329997983447, 'learning_rate_init': 0.0006629799238647639}. Best is trial 0 with value: 0.5562143148913189.\n",
            "[I 2024-03-23 15:51:26,748] Trial 7 finished with value: 0.5935163203202622 and parameters: {'hidden_layer_sizes_option': '50_50', 'activation': 'tanh', 'solver': 'adam', 'alpha': 0.05896347792117763, 'learning_rate_init': 1.810146736299887e-05}. Best is trial 0 with value: 0.5562143148913189.\n",
            "[I 2024-03-23 15:51:35,326] Trial 8 finished with value: 0.5699623635961049 and parameters: {'hidden_layer_sizes_option': '50', 'activation': 'tanh', 'solver': 'adam', 'alpha': 0.001867222792963504, 'learning_rate_init': 0.00014991105238731638}. Best is trial 0 with value: 0.5562143148913189.\n",
            "[I 2024-03-23 15:51:55,694] Trial 9 finished with value: 0.575114450416462 and parameters: {'hidden_layer_sizes_option': '100', 'activation': 'tanh', 'solver': 'adam', 'alpha': 0.0036824132308530522, 'learning_rate_init': 5.273786828984165e-05}. Best is trial 0 with value: 0.5562143148913189.\n",
            "[I 2024-03-23 15:51:59,194] Trial 10 finished with value: 0.5544848251620405 and parameters: {'hidden_layer_sizes_option': '50', 'activation': 'relu', 'solver': 'sgd', 'alpha': 0.0004457714295050436, 'learning_rate_init': 0.006761323534946833}. Best is trial 10 with value: 0.5544848251620405.\n",
            "[I 2024-03-23 15:52:02,987] Trial 11 finished with value: 0.5548496860999731 and parameters: {'hidden_layer_sizes_option': '50', 'activation': 'relu', 'solver': 'sgd', 'alpha': 0.00024899754489987895, 'learning_rate_init': 0.00943405449669354}. Best is trial 10 with value: 0.5544848251620405.\n",
            "[I 2024-03-23 15:52:09,731] Trial 12 finished with value: 0.5572855378731181 and parameters: {'hidden_layer_sizes_option': '50', 'activation': 'relu', 'solver': 'sgd', 'alpha': 0.00027309453825397686, 'learning_rate_init': 0.0094061588072186}. Best is trial 10 with value: 0.5544848251620405.\n",
            "[I 2024-03-23 15:52:15,409] Trial 13 finished with value: 0.5562981355855149 and parameters: {'hidden_layer_sizes_option': '50', 'activation': 'relu', 'solver': 'sgd', 'alpha': 0.000296581109681587, 'learning_rate_init': 0.007259619207693716}. Best is trial 10 with value: 0.5544848251620405.\n",
            "[I 2024-03-23 15:52:26,726] Trial 14 finished with value: 0.5544054854832894 and parameters: {'hidden_layer_sizes_option': '50_50', 'activation': 'relu', 'solver': 'sgd', 'alpha': 3.8036765555206765e-05, 'learning_rate_init': 0.0020515309626607647}. Best is trial 14 with value: 0.5544054854832894.\n",
            "[I 2024-03-23 15:52:38,027] Trial 15 finished with value: 0.5546800698251451 and parameters: {'hidden_layer_sizes_option': '50_50', 'activation': 'relu', 'solver': 'sgd', 'alpha': 2.2764003621643053e-05, 'learning_rate_init': 0.0014964354497052441}. Best is trial 14 with value: 0.5544054854832894.\n",
            "[I 2024-03-23 15:52:47,108] Trial 16 finished with value: 0.5634782057775751 and parameters: {'hidden_layer_sizes_option': '50_50', 'activation': 'relu', 'solver': 'sgd', 'alpha': 4.377397749164617e-05, 'learning_rate_init': 0.00040900905858540264}. Best is trial 14 with value: 0.5544054854832894.\n",
            "[I 2024-03-23 15:53:07,421] Trial 17 finished with value: 0.554007133618335 and parameters: {'hidden_layer_sizes_option': '100_100', 'activation': 'relu', 'solver': 'sgd', 'alpha': 6.570081440063055e-05, 'learning_rate_init': 0.0024270023222787524}. Best is trial 17 with value: 0.554007133618335.\n",
            "[I 2024-03-23 15:53:34,606] Trial 18 finished with value: 0.5574702972520987 and parameters: {'hidden_layer_sizes_option': '100_100', 'activation': 'relu', 'solver': 'sgd', 'alpha': 5.130635849376613e-05, 'learning_rate_init': 0.002328832850932739}. Best is trial 17 with value: 0.554007133618335.\n",
            "[I 2024-03-23 15:53:50,105] Trial 19 finished with value: 0.5605270670748392 and parameters: {'hidden_layer_sizes_option': '100_100', 'activation': 'relu', 'solver': 'sgd', 'alpha': 9.34070088341549e-05, 'learning_rate_init': 0.00038960726671828145}. Best is trial 17 with value: 0.554007133618335.\n",
            "[I 2024-03-23 15:54:37,331] Trial 20 finished with value: 0.6859815706362871 and parameters: {'hidden_layer_sizes_option': '50_50', 'activation': 'relu', 'solver': 'sgd', 'alpha': 1.1694682600613334e-05, 'learning_rate_init': 6.195819393807159e-06}. Best is trial 17 with value: 0.554007133618335.\n",
            "[I 2024-03-23 15:55:04,201] Trial 21 finished with value: 0.5568085369869799 and parameters: {'hidden_layer_sizes_option': '100_100', 'activation': 'relu', 'solver': 'sgd', 'alpha': 0.0005027207679798662, 'learning_rate_init': 0.004040637174665552}. Best is trial 17 with value: 0.554007133618335.\n",
            "[I 2024-03-23 15:55:30,675] Trial 22 finished with value: 0.5576155037194184 and parameters: {'hidden_layer_sizes_option': '100_100', 'activation': 'relu', 'solver': 'sgd', 'alpha': 0.00011274965488848391, 'learning_rate_init': 0.003745200884516154}. Best is trial 17 with value: 0.554007133618335.\n",
            "[I 2024-03-23 15:55:40,393] Trial 23 finished with value: 0.5574400283336556 and parameters: {'hidden_layer_sizes_option': '50_50', 'activation': 'relu', 'solver': 'sgd', 'alpha': 0.0008675603884626493, 'learning_rate_init': 0.0011890628991024518}. Best is trial 17 with value: 0.554007133618335.\n",
            "[I 2024-03-23 15:55:56,392] Trial 24 finished with value: 0.5628990961074036 and parameters: {'hidden_layer_sizes_option': '100_100', 'activation': 'relu', 'solver': 'sgd', 'alpha': 5.1094336144431364e-05, 'learning_rate_init': 0.00029436835495671304}. Best is trial 17 with value: 0.554007133618335.\n",
            "[I 2024-03-23 15:56:17,183] Trial 25 finished with value: 0.5617187207525505 and parameters: {'hidden_layer_sizes_option': '50_50', 'activation': 'relu', 'solver': 'sgd', 'alpha': 3.1786964328201314e-05, 'learning_rate_init': 0.005028174515005484}. Best is trial 17 with value: 0.554007133618335.\n",
            "[I 2024-03-23 15:56:20,615] Trial 26 finished with value: 0.5578409302407469 and parameters: {'hidden_layer_sizes_option': '50', 'activation': 'relu', 'solver': 'sgd', 'alpha': 0.0008274176288277572, 'learning_rate_init': 0.002016974192763008}. Best is trial 17 with value: 0.554007133618335.\n",
            "[I 2024-03-23 15:56:34,431] Trial 27 finished with value: 0.5575628808495736 and parameters: {'hidden_layer_sizes_option': '100_100', 'activation': 'relu', 'solver': 'sgd', 'alpha': 0.00014270543611278398, 'learning_rate_init': 0.0007192428849451623}. Best is trial 17 with value: 0.554007133618335.\n",
            "[I 2024-03-23 15:56:45,674] Trial 28 finished with value: 0.555897382260577 and parameters: {'hidden_layer_sizes_option': '50_50', 'activation': 'relu', 'solver': 'sgd', 'alpha': 2.1092213163159467e-05, 'learning_rate_init': 0.00210265386672083}. Best is trial 17 with value: 0.554007133618335.\n",
            "[I 2024-03-23 15:56:52,454] Trial 29 finished with value: 0.5546212777216749 and parameters: {'hidden_layer_sizes_option': '50', 'activation': 'relu', 'solver': 'sgd', 'alpha': 0.000524122045171641, 'learning_rate_init': 0.003729917532782477}. Best is trial 17 with value: 0.554007133618335.\n",
            "[I 2024-03-23 15:56:59,346] Trial 30 finished with value: 0.558694247053065 and parameters: {'hidden_layer_sizes_option': '50_50', 'activation': 'relu', 'solver': 'sgd', 'alpha': 7.22385692139148e-05, 'learning_rate_init': 0.0006159591934128629}. Best is trial 17 with value: 0.554007133618335.\n",
            "[I 2024-03-23 15:57:05,244] Trial 31 finished with value: 0.555356738550807 and parameters: {'hidden_layer_sizes_option': '50', 'activation': 'relu', 'solver': 'sgd', 'alpha': 0.0005461585726558879, 'learning_rate_init': 0.004808593179834117}. Best is trial 17 with value: 0.554007133618335.\n",
            "[I 2024-03-23 15:57:09,289] Trial 32 finished with value: 0.5595345238016405 and parameters: {'hidden_layer_sizes_option': '50', 'activation': 'relu', 'solver': 'sgd', 'alpha': 0.00021786292992926611, 'learning_rate_init': 0.002040353090371059}. Best is trial 17 with value: 0.554007133618335.\n",
            "[I 2024-03-23 15:57:13,889] Trial 33 finished with value: 0.5549845940479095 and parameters: {'hidden_layer_sizes_option': '50', 'activation': 'relu', 'solver': 'sgd', 'alpha': 0.008025811443443486, 'learning_rate_init': 0.0031840123444191234}. Best is trial 17 with value: 0.554007133618335.\n",
            "[I 2024-03-23 15:57:21,224] Trial 34 finished with value: 0.5540828363755568 and parameters: {'hidden_layer_sizes_option': '50', 'activation': 'relu', 'solver': 'sgd', 'alpha': 0.0013054614138197208, 'learning_rate_init': 0.005740744287149714}. Best is trial 17 with value: 0.554007133618335.\n",
            "[I 2024-03-23 15:57:25,425] Trial 35 finished with value: 0.5564016661052629 and parameters: {'hidden_layer_sizes_option': '50', 'activation': 'relu', 'solver': 'sgd', 'alpha': 0.0018169965577313643, 'learning_rate_init': 0.007141660365802439}. Best is trial 17 with value: 0.554007133618335.\n",
            "[I 2024-03-23 15:57:29,739] Trial 36 finished with value: 0.5858296240071834 and parameters: {'hidden_layer_sizes_option': '100', 'activation': 'tanh', 'solver': 'sgd', 'alpha': 0.0183774517064891, 'learning_rate_init': 0.00022031982122467338}. Best is trial 17 with value: 0.554007133618335.\n",
            "[I 2024-03-23 15:57:45,576] Trial 37 finished with value: 0.5559067074177638 and parameters: {'hidden_layer_sizes_option': '100_100', 'activation': 'relu', 'solver': 'sgd', 'alpha': 0.001315766647635548, 'learning_rate_init': 0.0009416349969382766}. Best is trial 17 with value: 0.554007133618335.\n",
            "[I 2024-03-23 15:57:56,395] Trial 38 finished with value: 0.5579969063382209 and parameters: {'hidden_layer_sizes_option': '50', 'activation': 'tanh', 'solver': 'sgd', 'alpha': 0.0038254708738248554, 'learning_rate_init': 0.005586834618903949}. Best is trial 17 with value: 0.554007133618335.\n",
            "[I 2024-03-23 15:58:04,136] Trial 39 finished with value: 0.5575315302505395 and parameters: {'hidden_layer_sizes_option': '100', 'activation': 'relu', 'solver': 'adam', 'alpha': 1.4347771821581881e-05, 'learning_rate_init': 0.0013014998031061278}. Best is trial 17 with value: 0.554007133618335.\n",
            "/usr/local/lib/python3.10/dist-packages/sklearn/neural_network/_multilayer_perceptron.py:686: ConvergenceWarning: Stochastic Optimizer: Maximum iterations (2000) reached and the optimization hasn't converged yet.\n",
            "  warnings.warn(\n",
            "/usr/local/lib/python3.10/dist-packages/sklearn/neural_network/_multilayer_perceptron.py:686: ConvergenceWarning: Stochastic Optimizer: Maximum iterations (2000) reached and the optimization hasn't converged yet.\n",
            "  warnings.warn(\n",
            "[I 2024-03-23 16:00:29,359] Trial 40 finished with value: 7.3857525861828055 and parameters: {'hidden_layer_sizes_option': '50', 'activation': 'tanh', 'solver': 'adam', 'alpha': 0.00014704941607045747, 'learning_rate_init': 1.0773651641091215e-06}. Best is trial 17 with value: 0.554007133618335.\n",
            "[I 2024-03-23 16:00:35,043] Trial 41 finished with value: 0.5566262023577417 and parameters: {'hidden_layer_sizes_option': '50', 'activation': 'relu', 'solver': 'sgd', 'alpha': 0.0003788366269211201, 'learning_rate_init': 0.0029860781536905838}. Best is trial 17 with value: 0.554007133618335.\n",
            "[I 2024-03-23 16:00:40,270] Trial 42 finished with value: 0.5572363239672797 and parameters: {'hidden_layer_sizes_option': '50', 'activation': 'relu', 'solver': 'sgd', 'alpha': 0.0007725143089201972, 'learning_rate_init': 0.009341016499017842}. Best is trial 17 with value: 0.554007133618335.\n",
            "[I 2024-03-23 16:00:46,530] Trial 43 finished with value: 0.556991687000023 and parameters: {'hidden_layer_sizes_option': '50', 'activation': 'relu', 'solver': 'sgd', 'alpha': 0.002799162590894214, 'learning_rate_init': 0.002922180986614647}. Best is trial 17 with value: 0.554007133618335.\n",
            "[I 2024-03-23 16:00:59,488] Trial 44 finished with value: 0.5938363511257121 and parameters: {'hidden_layer_sizes_option': '50', 'activation': 'relu', 'solver': 'sgd', 'alpha': 0.007343244226829636, 'learning_rate_init': 7.0775408269006e-05}. Best is trial 17 with value: 0.554007133618335.\n",
            "[I 2024-03-23 16:01:04,462] Trial 45 finished with value: 0.5557721643080167 and parameters: {'hidden_layer_sizes_option': '50', 'activation': 'relu', 'solver': 'sgd', 'alpha': 0.00018825396338495172, 'learning_rate_init': 0.005973203456040816}. Best is trial 17 with value: 0.554007133618335.\n",
            "[I 2024-03-23 16:01:12,469] Trial 46 finished with value: 0.5601809807980689 and parameters: {'hidden_layer_sizes_option': '100', 'activation': 'relu', 'solver': 'adam', 'alpha': 0.0011830658164235278, 'learning_rate_init': 0.0015443228578755318}. Best is trial 17 with value: 0.554007133618335.\n",
            "[I 2024-03-23 16:02:16,546] Trial 47 finished with value: 0.6627903430610995 and parameters: {'hidden_layer_sizes_option': '50_50', 'activation': 'tanh', 'solver': 'sgd', 'alpha': 0.0004683136272687581, 'learning_rate_init': 3.9648303452973806e-06}. Best is trial 17 with value: 0.554007133618335.\n",
            "[I 2024-03-23 16:03:07,256] Trial 48 finished with value: 0.6108967787587267 and parameters: {'hidden_layer_sizes_option': '100_100', 'activation': 'relu', 'solver': 'sgd', 'alpha': 8.901989416273952e-05, 'learning_rate_init': 2.3901003105715474e-05}. Best is trial 17 with value: 0.554007133618335.\n",
            "[I 2024-03-23 16:03:15,071] Trial 49 finished with value: 0.5564337439326288 and parameters: {'hidden_layer_sizes_option': '50', 'activation': 'relu', 'solver': 'adam', 'alpha': 2.8263001253824363e-05, 'learning_rate_init': 0.0005737667493044052}. Best is trial 17 with value: 0.554007133618335.\n"
          ]
        },
        {
          "name": "stdout",
          "output_type": "stream",
          "text": [
            "Best parameters: {'activation': 'relu', 'solver': 'sgd', 'alpha': 6.570081440063055e-05, 'learning_rate_init': 0.0024270023222787524, 'hidden_layer_sizes': (100, 100)}\n",
            "Training MSE: 0.5273, RMSE: 0.7261, MAE: 0.5367\n",
            "Test MSE: 0.5719, RMSE: 0.7563, MAE: 0.5591\n"
          ]
        }
      ],
      "source": [
        "# Initialize the MLP model\n",
        "mlp_model = MLPModelOptimized(pre_processed_ratings)\n",
        "\n",
        "# Tune hyperparameters\n",
        "mlp_model.tune_hyperparameters(n_trials=50)\n",
        "\n",
        "# Train and evaluate the model\n",
        "mlp_model.train_and_evaluate_model()"
      ]
    },
    {
      "cell_type": "markdown",
      "metadata": {
        "id": "Eb_OmnNp8IMW"
      },
      "source": [
        "Create the Classification Report"
      ]
    },
    {
      "cell_type": "code",
      "execution_count": null,
      "metadata": {
        "colab": {
          "base_uri": "https://localhost:8080/"
        },
        "id": "rMAq7PZmKaAC",
        "outputId": "63e00e24-fea1-422f-e614-b5094268be6a"
      },
      "outputs": [
        {
          "name": "stdout",
          "output_type": "stream",
          "text": [
            "              precision    recall  f1-score   support\n",
            "\n",
            "           1       1.00      0.20      0.33        41\n",
            "           2       0.42      0.16      0.24        85\n",
            "           3       0.46      0.53      0.49       305\n",
            "           4       0.57      0.75      0.65       507\n",
            "           5       0.78      0.31      0.44       191\n",
            "\n",
            "    accuracy                           0.55      1129\n",
            "   macro avg       0.65      0.39      0.43      1129\n",
            "weighted avg       0.58      0.55      0.53      1129\n",
            "\n"
          ]
        }
      ],
      "source": [
        "# Access the predicted y values for the test set\n",
        "y_pred_test = mlp_model.model.predict(mlp_model.X_test)\n",
        "\n",
        "round_preds = np.round(y_pred_test)\n",
        "preds_rounded = np.where(round_preds < 1, 1, np.where(round_preds > 5, 5, round_preds))\n",
        "labels = mlp_model.ratings[['Rating']][-int(len(mlp_model.ratings) * 0.1):].values\n",
        "print(classification_report(y_true=labels, y_pred=preds_rounded))"
      ]
    },
    {
      "cell_type": "markdown",
      "metadata": {
        "id": "tUkyTViC8QlY"
      },
      "source": [
        "Plot the Confusion Matrix"
      ]
    },
    {
      "cell_type": "code",
      "execution_count": null,
      "metadata": {
        "colab": {
          "base_uri": "https://localhost:8080/"
        },
        "id": "xHyA_q458UE4",
        "outputId": "205ea550-4e5b-4cb6-f867-ba4503790054"
      },
      "outputs": [
        {
          "data": {
            "image/png": "[encoded data removed]",
            "text/plain": [
              "<Figure size 1000x1000 with 2 Axes>"
            ]
          },
          "metadata": {},
          "output_type": "display_data"
        }
      ],
      "source": [
        "# Convert labels to unique values\n",
        "labels_tensor = labels\n",
        "unique_labels = np.unique(labels)\n",
        "\n",
        "# Assuming y_pred and y_test are numpy arrays\n",
        "# y_pred = np.round(preds.detach().numpy())\n",
        "# Assuming preds_rounded is defined\n",
        "y_pred = preds_rounded\n",
        "y_test = labels\n",
        "\n",
        "# Calculate confusion matrix\n",
        "cm = confusion_matrix(labels, y_pred)\n",
        "\n",
        "# Plot confusion matrix\n",
        "disp = ConfusionMatrixDisplay(confusion_matrix=cm, display_labels=unique_labels)\n",
        "fig, ax = plt.subplots(figsize=(10, 10))\n",
        "disp.plot(ax=ax)\n",
        "plt.show()\n"
      ]
    },
    {
      "cell_type": "markdown",
      "metadata": {
        "id": "VR7A0bK71tOh"
      },
      "source": [
        "### **Ridge** **LR**"
      ]
    },
    {
      "cell_type": "markdown",
      "metadata": {
        "id": "QrCGU59I60e9"
      },
      "source": [
        "Train and Evaluate the Model"
      ]
    },
    {
      "cell_type": "code",
      "execution_count": null,
      "metadata": {
        "colab": {
          "base_uri": "https://localhost:8080/"
        },
        "id": "lYEsSLFA167f",
        "outputId": "064078d6-19ec-42cd-8160-e0ab58385706"
      },
      "outputs": [
        {
          "name": "stderr",
          "output_type": "stream",
          "text": [
            "[I 2024-03-23 16:03:37,328] A new study created in memory with name: no-name-41c440c9-98d7-43c4-82fd-fe661b6924b5\n",
            "/content/ISS_Seminar_GNN_SOTA/models/benchmark/lr_ridge.py:35: FutureWarning: suggest_loguniform has been deprecated in v3.0.0. This feature will be removed in v6.0.0. See https://github.com/optuna/optuna/releases/tag/v3.0.0. Use suggest_float(..., log=True) instead.\n",
            "  alpha = trial.suggest_loguniform('alpha', 0.0001, 10)\n",
            "[I 2024-03-23 16:03:37,340] Trial 0 finished with value: 0.7550267542065915 and parameters: {'alpha': 0.04851335726526668}. Best is trial 0 with value: 0.7550267542065915.\n",
            "/content/ISS_Seminar_GNN_SOTA/models/benchmark/lr_ridge.py:35: FutureWarning: suggest_loguniform has been deprecated in v3.0.0. This feature will be removed in v6.0.0. See https://github.com/optuna/optuna/releases/tag/v3.0.0. Use suggest_float(..., log=True) instead.\n",
            "  alpha = trial.suggest_loguniform('alpha', 0.0001, 10)\n",
            "[I 2024-03-23 16:03:37,350] Trial 1 finished with value: 0.7550267559204518 and parameters: {'alpha': 0.028479855096781224}. Best is trial 0 with value: 0.7550267542065915.\n",
            "/content/ISS_Seminar_GNN_SOTA/models/benchmark/lr_ridge.py:35: FutureWarning: suggest_loguniform has been deprecated in v3.0.0. This feature will be removed in v6.0.0. See https://github.com/optuna/optuna/releases/tag/v3.0.0. Use suggest_float(..., log=True) instead.\n",
            "  alpha = trial.suggest_loguniform('alpha', 0.0001, 10)\n",
            "[I 2024-03-23 16:03:37,359] Trial 2 finished with value: 0.7550267575795653 and parameters: {'alpha': 0.010203840466459613}. Best is trial 0 with value: 0.7550267542065915.\n",
            "/content/ISS_Seminar_GNN_SOTA/models/benchmark/lr_ridge.py:35: FutureWarning: suggest_loguniform has been deprecated in v3.0.0. This feature will be removed in v6.0.0. See https://github.com/optuna/optuna/releases/tag/v3.0.0. Use suggest_float(..., log=True) instead.\n",
            "  alpha = trial.suggest_loguniform('alpha', 0.0001, 10)\n",
            "[I 2024-03-23 16:03:37,371] Trial 3 finished with value: 0.7550267580510867 and parameters: {'alpha': 0.00518562794003369}. Best is trial 0 with value: 0.7550267542065915.\n",
            "/content/ISS_Seminar_GNN_SOTA/models/benchmark/lr_ridge.py:35: FutureWarning: suggest_loguniform has been deprecated in v3.0.0. This feature will be removed in v6.0.0. See https://github.com/optuna/optuna/releases/tag/v3.0.0. Use suggest_float(..., log=True) instead.\n",
            "  alpha = trial.suggest_loguniform('alpha', 0.0001, 10)\n",
            "[I 2024-03-23 16:03:37,380] Trial 4 finished with value: 0.7550267585000334 and parameters: {'alpha': 0.0004742932636540167}. Best is trial 0 with value: 0.7550267542065915.\n"
          ]
        },
        {
          "name": "stdout",
          "output_type": "stream",
          "text": [
            "Best alpha: 0.04851335726526668\n",
            "Final Evaluation on Test Set - MSE: 0.5680, RMSE: 0.7537, MAE: 0.5602\n"
          ]
        }
      ],
      "source": [
        "# Step 1: Initiate the class\n",
        "lr_model = LRModel(pre_processed_ratings)\n",
        "\n",
        "# Step 2 (optional): Tune hyperparameters\n",
        "lr_model.tune_hyperparameters(n_trials=5)\n",
        "\n",
        "# Step 3: Train the model and evaluate its performance\n",
        "lr_model.train_and_evaluate()"
      ]
    },
    {
      "cell_type": "markdown",
      "metadata": {
        "id": "F9XjxZzT7CIJ"
      },
      "source": [
        "Create the Classification Report"
      ]
    },
    {
      "cell_type": "code",
      "execution_count": null,
      "metadata": {
        "colab": {
          "base_uri": "https://localhost:8080/"
        },
        "id": "AiQ6cuzxKh44",
        "outputId": "2e9df9d3-8686-46f6-e1cb-c97c5451fbf9"
      },
      "outputs": [
        {
          "name": "stdout",
          "output_type": "stream",
          "text": [
            "              precision    recall  f1-score   support\n",
            "\n",
            "           1       1.00      0.15      0.26        41\n",
            "           2       0.52      0.15      0.24        85\n",
            "           3       0.49      0.55      0.52       305\n",
            "           4       0.58      0.80      0.67       507\n",
            "           5       0.87      0.27      0.41       191\n",
            "\n",
            "    accuracy                           0.57      1129\n",
            "   macro avg       0.69      0.38      0.42      1129\n",
            "weighted avg       0.62      0.57      0.54      1129\n",
            "\n"
          ]
        }
      ],
      "source": [
        "# Access the predicted y values for the test set\n",
        "y_pred_test = lr_model.model.predict(lr_model.X_test)\n",
        "\n",
        "round_preds = np.round(y_pred_test)\n",
        "preds_rounded = np.where(round_preds < 1, 1, np.where(round_preds > 5, 5, round_preds))\n",
        "labels = lr_model.ratings[['Rating']][-int(len(lr_model.ratings) * 0.1):].values\n",
        "print(classification_report(y_true=labels, y_pred=preds_rounded))"
      ]
    },
    {
      "cell_type": "markdown",
      "metadata": {
        "id": "mLn9pQCy7Hsc"
      },
      "source": [
        "Plot the Confusion Matrix"
      ]
    },
    {
      "cell_type": "code",
      "execution_count": null,
      "metadata": {
        "colab": {
          "base_uri": "https://localhost:8080/"
        },
        "id": "PqWtwByM7KZv",
        "outputId": "710e74b6-24f3-45d8-dd26-1db363193c34"
      },
      "outputs": [
        {
          "data": {
            "image/png": "[encoded data removed]",
            "text/plain": [
              "<Figure size 1000x1000 with 2 Axes>"
            ]
          },
          "metadata": {},
          "output_type": "display_data"
        }
      ],
      "source": [
        "# Convert labels unique values\n",
        "labels_tensor = labels\n",
        "unique_labels = np.unique(labels)\n",
        "\n",
        "# Assuming y_pred and y_test are numpy arrays\n",
        "# y_pred = np.round(preds.detach().numpy())\n",
        "# Assuming preds_rounded is defined\n",
        "y_pred = preds_rounded\n",
        "y_test = labels\n",
        "\n",
        "# Calculate confusion matrix\n",
        "cm = confusion_matrix(labels, y_pred)\n",
        "\n",
        "# Plot confusion matrix\n",
        "disp = ConfusionMatrixDisplay(confusion_matrix=cm, display_labels=unique_labels)\n",
        "fig, ax = plt.subplots(figsize=(10, 10))\n",
        "disp.plot(ax=ax)\n",
        "plt.show()\n"
      ]
    },
    {
      "cell_type": "markdown",
      "metadata": {
        "id": "HokGQIRydIdl"
      },
      "source": [
        "## **GNNs**\n"
      ]
    },
    {
      "cell_type": "markdown",
      "metadata": {
        "id": "_poOteGK90Mv"
      },
      "source": [
        "### **GCN**"
      ]
    },
    {
      "cell_type": "markdown",
      "metadata": {
        "id": "cKEAGT4y8p6I"
      },
      "source": [
        "Train the Model"
      ]
    },
    {
      "cell_type": "code",
      "execution_count": null,
      "metadata": {
        "colab": {
          "base_uri": "https://localhost:8080/"
        },
        "id": "RcD_B9dtyi9d",
        "outputId": "ac38927a-8670-43f4-ad33-28ed3a659057"
      },
      "outputs": [
        {
          "name": "stderr",
          "output_type": "stream",
          "text": [
            "[I 2024-03-23 16:03:37,778] A new study created in memory with name: no-name-b4b05bcc-7105-44d3-b9f2-70aecbba578d\n",
            "[I 2024-03-23 16:03:57,462] Trial 0 finished with value: 2263.100568026597 and parameters: {'hidden_channels_encoder': 233, 'latent_space_dim': 170, 'hidden_channels_predictor': 168, 'dropout_rate': 0.06573518680391903}. Best is trial 0 with value: 2263.100568026597.\n",
            "[I 2024-03-23 16:04:05,651] Trial 1 finished with value: 4065.0022332163 and parameters: {'hidden_channels_encoder': 64, 'latent_space_dim': 218, 'hidden_channels_predictor': 104, 'dropout_rate': 0.7952970118476735}. Best is trial 0 with value: 2263.100568026597.\n",
            "[I 2024-03-23 16:04:18,808] Trial 2 finished with value: 5026.899706984121 and parameters: {'hidden_channels_encoder': 92, 'latent_space_dim': 215, 'hidden_channels_predictor': 158, 'dropout_rate': 0.7353829164087178}. Best is trial 0 with value: 2263.100568026597.\n",
            "[I 2024-03-23 16:04:26,731] Trial 3 finished with value: 2844.1878040475526 and parameters: {'hidden_channels_encoder': 38, 'latent_space_dim': 197, 'hidden_channels_predictor': 110, 'dropout_rate': 0.11442378331667784}. Best is trial 0 with value: 2263.100568026597.\n",
            "[I 2024-03-23 16:04:40,558] Trial 4 finished with value: 1171.5352360777356 and parameters: {'hidden_channels_encoder': 136, 'latent_space_dim': 254, 'hidden_channels_predictor': 96, 'dropout_rate': 0.8009934923914462}. Best is trial 4 with value: 1171.5352360777356.\n",
            "[I 2024-03-23 16:04:49,391] Trial 5 finished with value: 1679.947487323429 and parameters: {'hidden_channels_encoder': 122, 'latent_space_dim': 212, 'hidden_channels_predictor': 44, 'dropout_rate': 0.27181669660531377}. Best is trial 4 with value: 1171.5352360777356.\n",
            "[I 2024-03-23 16:04:58,384] Trial 6 finished with value: 2236.6740820498353 and parameters: {'hidden_channels_encoder': 171, 'latent_space_dim': 124, 'hidden_channels_predictor': 34, 'dropout_rate': 0.1435649928088777}. Best is trial 4 with value: 1171.5352360777356.\n",
            "[I 2024-03-23 16:05:11,247] Trial 7 finished with value: 4160.727427390271 and parameters: {'hidden_channels_encoder': 147, 'latent_space_dim': 118, 'hidden_channels_predictor': 175, 'dropout_rate': 0.5791507338940387}. Best is trial 4 with value: 1171.5352360777356.\n",
            "[I 2024-03-23 16:05:33,543] Trial 8 finished with value: 4697.8600467749475 and parameters: {'hidden_channels_encoder': 246, 'latent_space_dim': 163, 'hidden_channels_predictor': 224, 'dropout_rate': 0.8609634831612629}. Best is trial 4 with value: 1171.5352360777356.\n",
            "[I 2024-03-23 16:05:43,725] Trial 9 finished with value: 84.42117535759394 and parameters: {'hidden_channels_encoder': 192, 'latent_space_dim': 162, 'hidden_channels_predictor': 41, 'dropout_rate': 0.5730472274496685}. Best is trial 9 with value: 84.42117535759394.\n",
            "[I 2024-03-23 16:05:59,120] Trial 10 finished with value: 2268.4960300752778 and parameters: {'hidden_channels_encoder': 206, 'latent_space_dim': 40, 'hidden_channels_predictor': 239, 'dropout_rate': 0.43501552095988527}. Best is trial 9 with value: 84.42117535759394.\n",
            "[I 2024-03-23 16:06:14,373] Trial 11 finished with value: 102.9184352085971 and parameters: {'hidden_channels_encoder': 180, 'latent_space_dim': 256, 'hidden_channels_predictor': 78, 'dropout_rate': 0.6347968748898514}. Best is trial 9 with value: 84.42117535759394.\n",
            "[I 2024-03-23 16:06:23,840] Trial 12 finished with value: 2904.7529253185094 and parameters: {'hidden_channels_encoder': 193, 'latent_space_dim': 77, 'hidden_channels_predictor': 69, 'dropout_rate': 0.5829234131702734}. Best is trial 9 with value: 84.42117535759394.\n",
            "[I 2024-03-23 16:06:39,272] Trial 13 finished with value: 33.359486458292714 and parameters: {'hidden_channels_encoder': 189, 'latent_space_dim': 253, 'hidden_channels_predictor': 74, 'dropout_rate': 0.5956428306562249}. Best is trial 13 with value: 33.359486458292714.\n",
            "[I 2024-03-23 16:06:52,769] Trial 14 finished with value: 7596.960105600892 and parameters: {'hidden_channels_encoder': 222, 'latent_space_dim': 94, 'hidden_channels_predictor': 132, 'dropout_rate': 0.42170481591478837}. Best is trial 13 with value: 33.359486458292714.\n",
            "[I 2024-03-23 16:07:03,229] Trial 15 finished with value: 809.5614203197529 and parameters: {'hidden_channels_encoder': 168, 'latent_space_dim': 176, 'hidden_channels_predictor': 57, 'dropout_rate': 0.32309661222679265}. Best is trial 13 with value: 33.359486458292714.\n",
            "[I 2024-03-23 16:07:08,967] Trial 16 finished with value: 551.8935942998116 and parameters: {'hidden_channels_encoder': 108, 'latent_space_dim': 142, 'hidden_channels_predictor': 32, 'dropout_rate': 0.6804349394096881}. Best is trial 13 with value: 33.359486458292714.\n",
            "[I 2024-03-23 16:07:21,274] Trial 17 finished with value: 1941.8292892415163 and parameters: {'hidden_channels_encoder': 256, 'latent_space_dim': 49, 'hidden_channels_predictor': 78, 'dropout_rate': 0.520781279164016}. Best is trial 13 with value: 33.359486458292714.\n",
            "[I 2024-03-23 16:07:39,837] Trial 18 finished with value: 998.5512648261619 and parameters: {'hidden_channels_encoder': 212, 'latent_space_dim': 235, 'hidden_channels_predictor': 130, 'dropout_rate': 0.49639697444277087}. Best is trial 13 with value: 33.359486458292714.\n",
            "[I 2024-03-23 16:07:54,628] Trial 19 finished with value: 2619.4137433611813 and parameters: {'hidden_channels_encoder': 142, 'latent_space_dim': 149, 'hidden_channels_predictor': 200, 'dropout_rate': 0.28396790756505474}. Best is trial 13 with value: 33.359486458292714.\n",
            "[I 2024-03-23 16:08:04,957] Trial 20 finished with value: 822.9180409276464 and parameters: {'hidden_channels_encoder': 160, 'latent_space_dim': 194, 'hidden_channels_predictor': 58, 'dropout_rate': 0.38119998493821594}. Best is trial 13 with value: 33.359486458292714.\n",
            "[I 2024-03-23 16:08:19,666] Trial 21 finished with value: 200.8765633359471 and parameters: {'hidden_channels_encoder': 191, 'latent_space_dim': 252, 'hidden_channels_predictor': 84, 'dropout_rate': 0.6359282998017566}. Best is trial 13 with value: 33.359486458292714.\n",
            "[I 2024-03-23 16:08:32,288] Trial 22 finished with value: 36.74987740777652 and parameters: {'hidden_channels_encoder': 185, 'latent_space_dim': 235, 'hidden_channels_predictor': 55, 'dropout_rate': 0.6795316523995619}. Best is trial 13 with value: 33.359486458292714.\n",
            "[I 2024-03-23 16:08:45,618] Trial 23 finished with value: 33.0727656224516 and parameters: {'hidden_channels_encoder': 200, 'latent_space_dim': 229, 'hidden_channels_predictor': 56, 'dropout_rate': 0.6972277188923215}. Best is trial 23 with value: 33.0727656224516.\n",
            "[I 2024-03-23 16:09:02,166] Trial 24 finished with value: 14.708025492986756 and parameters: {'hidden_channels_encoder': 225, 'latent_space_dim': 234, 'hidden_channels_predictor': 59, 'dropout_rate': 0.7458921406026644}. Best is trial 24 with value: 14.708025492986756.\n",
            "[I 2024-03-23 16:09:21,673] Trial 25 finished with value: 1493.960339763425 and parameters: {'hidden_channels_encoder': 232, 'latent_space_dim': 237, 'hidden_channels_predictor': 114, 'dropout_rate': 0.8807176090128169}. Best is trial 24 with value: 14.708025492986756.\n",
            "[I 2024-03-23 16:09:37,007] Trial 26 finished with value: 251.23226520631638 and parameters: {'hidden_channels_encoder': 217, 'latent_space_dim': 193, 'hidden_channels_predictor': 91, 'dropout_rate': 0.7469734836657944}. Best is trial 24 with value: 14.708025492986756.\n",
            "[I 2024-03-23 16:09:51,884] Trial 27 finished with value: 569.4230079312681 and parameters: {'hidden_channels_encoder': 206, 'latent_space_dim': 226, 'hidden_channels_predictor': 63, 'dropout_rate': 0.7448415396346554}. Best is trial 24 with value: 14.708025492986756.\n",
            "[I 2024-03-23 16:10:10,547] Trial 28 finished with value: 326.47253768914595 and parameters: {'hidden_channels_encoder': 239, 'latent_space_dim': 205, 'hidden_channels_predictor': 128, 'dropout_rate': 0.668912149607004}. Best is trial 24 with value: 14.708025492986756.\n",
            "[I 2024-03-23 16:10:25,306] Trial 29 finished with value: 396.99238352992626 and parameters: {'hidden_channels_encoder': 227, 'latent_space_dim': 182, 'hidden_channels_predictor': 73, 'dropout_rate': 0.8104554345897248}. Best is trial 24 with value: 14.708025492986756.\n",
            "[I 2024-03-23 16:10:43,187] Trial 30 finished with value: 4917.779054554727 and parameters: {'hidden_channels_encoder': 154, 'latent_space_dim': 238, 'hidden_channels_predictor': 167, 'dropout_rate': 0.014313479404232166}. Best is trial 24 with value: 14.708025492986756.\n",
            "[I 2024-03-23 16:10:55,992] Trial 31 finished with value: 28.17992619885755 and parameters: {'hidden_channels_encoder': 186, 'latent_space_dim': 228, 'hidden_channels_predictor': 53, 'dropout_rate': 0.7083924871094222}. Best is trial 24 with value: 14.708025492986756.\n",
            "[I 2024-03-23 16:11:08,954] Trial 32 finished with value: 34.7688757220738 and parameters: {'hidden_channels_encoder': 199, 'latent_space_dim': 223, 'hidden_channels_predictor': 46, 'dropout_rate': 0.7238599884953612}. Best is trial 24 with value: 14.708025492986756.\n",
            "[I 2024-03-23 16:11:23,410] Trial 33 finished with value: 472.4750848454842 and parameters: {'hidden_channels_encoder': 174, 'latent_space_dim': 242, 'hidden_channels_predictor': 99, 'dropout_rate': 0.5229547084289898}. Best is trial 24 with value: 14.708025492986756.\n",
            "[I 2024-03-23 16:11:37,857] Trial 34 finished with value: 57.71004862351606 and parameters: {'hidden_channels_encoder': 216, 'latent_space_dim': 219, 'hidden_channels_predictor': 52, 'dropout_rate': 0.8351956552127937}. Best is trial 24 with value: 14.708025492986756.\n",
            "[I 2024-03-23 16:11:55,732] Trial 35 finished with value: 586.050761971725 and parameters: {'hidden_channels_encoder': 237, 'latent_space_dim': 202, 'hidden_channels_predictor': 108, 'dropout_rate': 0.7399937926490109}. Best is trial 24 with value: 14.708025492986756.\n",
            "[I 2024-03-23 16:12:04,259] Trial 36 finished with value: 3708.499880936542 and parameters: {'hidden_channels_encoder': 67, 'latent_space_dim': 247, 'hidden_channels_predictor': 88, 'dropout_rate': 0.7825774845631129}. Best is trial 24 with value: 14.708025492986756.\n",
            "[I 2024-03-23 16:12:13,668] Trial 37 finished with value: 234.93305655324673 and parameters: {'hidden_channels_encoder': 127, 'latent_space_dim': 213, 'hidden_channels_predictor': 66, 'dropout_rate': 0.6135476829234431}. Best is trial 24 with value: 14.708025492986756.\n",
            "[I 2024-03-23 16:12:27,582] Trial 38 finished with value: 1199.3888501420965 and parameters: {'hidden_channels_encoder': 165, 'latent_space_dim': 226, 'hidden_channels_predictor': 116, 'dropout_rate': 0.6961562397227827}. Best is trial 24 with value: 14.708025492986756.\n",
            "[I 2024-03-23 16:12:43,246] Trial 39 finished with value: 2019.723524991848 and parameters: {'hidden_channels_encoder': 181, 'latent_space_dim': 184, 'hidden_channels_predictor': 149, 'dropout_rate': 0.7838976179595656}. Best is trial 24 with value: 14.708025492986756.\n",
            "[I 2024-03-23 16:12:58,505] Trial 40 finished with value: 3.8810404778970744 and parameters: {'hidden_channels_encoder': 253, 'latent_space_dim': 214, 'hidden_channels_predictor': 32, 'dropout_rate': 0.558261404787316}. Best is trial 40 with value: 3.8810404778970744.\n",
            "[I 2024-03-23 16:13:13,732] Trial 41 finished with value: 4.031159407538901 and parameters: {'hidden_channels_encoder': 250, 'latent_space_dim': 210, 'hidden_channels_predictor': 39, 'dropout_rate': 0.4836440654537418}. Best is trial 40 with value: 3.8810404778970744.\n",
            "[I 2024-03-23 16:13:29,359] Trial 42 finished with value: 3.751929906876131 and parameters: {'hidden_channels_encoder': 253, 'latent_space_dim': 209, 'hidden_channels_predictor': 37, 'dropout_rate': 0.47092618383792423}. Best is trial 42 with value: 3.751929906876131.\n",
            "[I 2024-03-23 16:13:45,520] Trial 43 finished with value: 19.316505383395974 and parameters: {'hidden_channels_encoder': 256, 'latent_space_dim': 210, 'hidden_channels_predictor': 42, 'dropout_rate': 0.4844842807185853}. Best is trial 42 with value: 3.751929906876131.\n",
            "[I 2024-03-23 16:14:00,260] Trial 44 finished with value: 11.607792998234492 and parameters: {'hidden_channels_encoder': 243, 'latent_space_dim': 206, 'hidden_channels_predictor': 39, 'dropout_rate': 0.4744999437133795}. Best is trial 42 with value: 3.751929906876131.\n",
            "[I 2024-03-23 16:14:14,755] Trial 45 finished with value: 11.290066836727858 and parameters: {'hidden_channels_encoder': 243, 'latent_space_dim': 194, 'hidden_channels_predictor': 32, 'dropout_rate': 0.38606481627642947}. Best is trial 42 with value: 3.751929906876131.\n",
            "[I 2024-03-23 16:14:28,682] Trial 46 finished with value: 8.467375216534368 and parameters: {'hidden_channels_encoder': 246, 'latent_space_dim': 164, 'hidden_channels_predictor': 38, 'dropout_rate': 0.3831357457950843}. Best is trial 42 with value: 3.751929906876131.\n",
            "[I 2024-03-23 16:14:42,343] Trial 47 finished with value: 3.7673850150415826 and parameters: {'hidden_channels_encoder': 249, 'latent_space_dim': 156, 'hidden_channels_predictor': 36, 'dropout_rate': 0.37849204209364556}. Best is trial 42 with value: 3.751929906876131.\n",
            "[I 2024-03-23 16:14:57,294] Trial 48 finished with value: 244.62554491448364 and parameters: {'hidden_channels_encoder': 249, 'latent_space_dim': 162, 'hidden_channels_predictor': 44, 'dropout_rate': 0.18813389401499492}. Best is trial 42 with value: 3.751929906876131.\n",
            "[I 2024-03-23 16:15:10,494] Trial 49 finished with value: 15.148577795907368 and parameters: {'hidden_channels_encoder': 254, 'latent_space_dim': 120, 'hidden_channels_predictor': 32, 'dropout_rate': 0.3702111747735658}. Best is trial 42 with value: 3.751929906876131.\n"
          ]
        }
      ],
      "source": [
        "#GCN\n",
        "trainer = hyperparameter_optimization.GraphStudy(train_data_1, train_data_2, val_data_1, val_data_2, train_data_final, data, flag=1, EPOCHS=30, LR=0.0001)\n",
        "study, best_model = trainer.run_study(n_trials=50)"
      ]
    },
    {
      "cell_type": "markdown",
      "metadata": {
        "id": "zz4WjbCJ804O"
      },
      "source": [
        "Evaluate the Model"
      ]
    },
    {
      "cell_type": "code",
      "execution_count": null,
      "metadata": {
        "colab": {
          "base_uri": "https://localhost:8080/"
        },
        "id": "cWZF6vzkYD3Y",
        "outputId": "96f75866-3df7-4541-c013-efacf2811c14"
      },
      "outputs": [
        {
          "name": "stdout",
          "output_type": "stream",
          "text": [
            "Test MAE score: 3.58\n",
            "Test RMSE score: 3.73\n"
          ]
        }
      ],
      "source": [
        "best_model.eval()\n",
        "with torch.no_grad():\n",
        "    test_output = best_model(test_data.x_dict, test_data.edge_index_dict, test_data['user', 'rating', 'movie'].edge_label_index, test_data)\n",
        "preds = test_output.squeeze()\n",
        "labels = test_data['user', 'rating', 'movie'].edge_label\n",
        "mae = F.l1_loss(preds.double(), labels)\n",
        "rmse = torch.sqrt(F.mse_loss(preds.double(), labels)).item()\n",
        "\n",
        "print(f'Test MAE score: {(mae.detach().item()):.2f}')\n",
        "print(f'Test RMSE score: {rmse:.2f}')"
      ]
    },
    {
      "cell_type": "markdown",
      "metadata": {
        "id": "bDsfwlLB8_6L"
      },
      "source": [
        "Create the Classification Report"
      ]
    },
    {
      "cell_type": "code",
      "execution_count": null,
      "metadata": {
        "colab": {
          "base_uri": "https://localhost:8080/"
        },
        "id": "irHS2SIy49On",
        "outputId": "7a3711b5-37de-4fdb-a681-e6c8442435f5"
      },
      "outputs": [
        {
          "name": "stdout",
          "output_type": "stream",
          "text": [
            "              precision    recall  f1-score   support\n",
            "\n",
            "         1.0       0.04      1.00      0.07        41\n",
            "         2.0       0.00      0.00      0.00        85\n",
            "         3.0       0.00      0.00      0.00       305\n",
            "         4.0       0.00      0.00      0.00       508\n",
            "         5.0       0.00      0.00      0.00       191\n",
            "\n",
            "    accuracy                           0.04      1130\n",
            "   macro avg       0.01      0.20      0.01      1130\n",
            "weighted avg       0.00      0.04      0.00      1130\n",
            "\n"
          ]
        },
        {
          "name": "stderr",
          "output_type": "stream",
          "text": [
            "/usr/local/lib/python3.10/dist-packages/sklearn/metrics/_classification.py:1344: UndefinedMetricWarning: Precision and F-score are ill-defined and being set to 0.0 in labels with no predicted samples. Use `zero_division` parameter to control this behavior.\n",
            "  _warn_prf(average, modifier, msg_start, len(result))\n",
            "/usr/local/lib/python3.10/dist-packages/sklearn/metrics/_classification.py:1344: UndefinedMetricWarning: Precision and F-score are ill-defined and being set to 0.0 in labels with no predicted samples. Use `zero_division` parameter to control this behavior.\n",
            "  _warn_prf(average, modifier, msg_start, len(result))\n",
            "/usr/local/lib/python3.10/dist-packages/sklearn/metrics/_classification.py:1344: UndefinedMetricWarning: Precision and F-score are ill-defined and being set to 0.0 in labels with no predicted samples. Use `zero_division` parameter to control this behavior.\n",
            "  _warn_prf(average, modifier, msg_start, len(result))\n"
          ]
        }
      ],
      "source": [
        "round_preds = np.round(preds.detach().numpy())\n",
        "preds_rounded = np.where(round_preds < 1, 1, np.where(round_preds > 5, 5, round_preds))\n",
        "print(classification_report(y_true=labels, y_pred=preds_rounded))"
      ]
    },
    {
      "cell_type": "markdown",
      "metadata": {
        "id": "7wp90ser9Dkr"
      },
      "source": [
        "Plot the Confusion Matrix"
      ]
    },
    {
      "cell_type": "code",
      "execution_count": null,
      "metadata": {
        "colab": {
          "base_uri": "https://localhost:8080/"
        },
        "id": "XR7r4vC849A8",
        "outputId": "d7ce87ae-b95d-4643-bb8e-b73a4c96239a"
      },
      "outputs": [
        {
          "data": {
            "image/png": "[encoded data removed]",
            "text/plain": [
              "<Figure size 1000x1000 with 2 Axes>"
            ]
          },
          "metadata": {},
          "output_type": "display_data"
        }
      ],
      "source": [
        "# Convert labels to unique values\n",
        "labels_tensor = labels\n",
        "unique_labels = np.unique(labels)\n",
        "\n",
        "# Assuming y_pred and y_test are numpy arrays\n",
        "# Assuming preds_rounded is defined\n",
        "y_pred = preds_rounded\n",
        "y_test = labels\n",
        "\n",
        "# Calculate confusion matrix\n",
        "cm = confusion_matrix(labels, y_pred)\n",
        "\n",
        "# Plot confusion matrix\n",
        "disp = ConfusionMatrixDisplay(confusion_matrix=cm, display_labels=unique_labels)\n",
        "fig, ax = plt.subplots(figsize=(10, 10))\n",
        "disp.plot(ax=ax)\n",
        "plt.show()\n"
      ]
    },
    {
      "cell_type": "markdown",
      "metadata": {
        "id": "etxO8ceB9Ss4"
      },
      "source": [
        "### **GraphSAGE**"
      ]
    },
    {
      "cell_type": "markdown",
      "metadata": {
        "id": "c3a4Ogcj9ZJA"
      },
      "source": [
        "Train the Model"
      ]
    },
    {
      "cell_type": "code",
      "execution_count": null,
      "metadata": {
        "colab": {
          "base_uri": "https://localhost:8080/"
        },
        "id": "4yRnTPIZzvym",
        "outputId": "5dcd06b2-069d-44b2-f9ab-f649895a603b"
      },
      "outputs": [
        {
          "name": "stderr",
          "output_type": "stream",
          "text": [
            "[I 2024-03-23 16:15:21,508] A new study created in memory with name: no-name-ad4c9dd2-cc81-43ab-9248-ba5a4ebeec2c\n",
            "[I 2024-03-23 16:15:27,656] Trial 0 finished with value: 1.644571207482846 and parameters: {'hidden_channels_encoder': 33, 'latent_space_dim': 51, 'hidden_channels_predictor': 167, 'dropout_rate': 0.2797673432975205}. Best is trial 0 with value: 1.644571207482846.\n",
            "[I 2024-03-23 16:15:42,873] Trial 1 finished with value: 2.9092337334284832 and parameters: {'hidden_channels_encoder': 183, 'latent_space_dim': 247, 'hidden_channels_predictor': 90, 'dropout_rate': 0.4196753562313988}. Best is trial 0 with value: 1.644571207482846.\n",
            "[I 2024-03-23 16:15:52,416] Trial 2 finished with value: 3.747035059627593 and parameters: {'hidden_channels_encoder': 165, 'latent_space_dim': 85, 'hidden_channels_predictor': 91, 'dropout_rate': 0.7810607561901611}. Best is trial 0 with value: 1.644571207482846.\n",
            "[I 2024-03-23 16:16:08,503] Trial 3 finished with value: 2.028390429314977 and parameters: {'hidden_channels_encoder': 85, 'latent_space_dim': 172, 'hidden_channels_predictor': 255, 'dropout_rate': 0.3331517857092596}. Best is trial 0 with value: 1.644571207482846.\n",
            "[I 2024-03-23 16:16:20,011] Trial 4 finished with value: 1.3124377121034494 and parameters: {'hidden_channels_encoder': 69, 'latent_space_dim': 250, 'hidden_channels_predictor': 143, 'dropout_rate': 0.058545794122465335}. Best is trial 4 with value: 1.3124377121034494.\n",
            "[I 2024-03-23 16:16:25,652] Trial 5 finished with value: 2.2194401329676383 and parameters: {'hidden_channels_encoder': 60, 'latent_space_dim': 104, 'hidden_channels_predictor': 87, 'dropout_rate': 0.3474501850791383}. Best is trial 4 with value: 1.3124377121034494.\n",
            "[I 2024-03-23 16:16:39,163] Trial 6 finished with value: 3.6263157197571423 and parameters: {'hidden_channels_encoder': 171, 'latent_space_dim': 142, 'hidden_channels_predictor': 152, 'dropout_rate': 0.852415976744943}. Best is trial 4 with value: 1.3124377121034494.\n",
            "[I 2024-03-23 16:16:55,899] Trial 7 finished with value: 1.5670599522683744 and parameters: {'hidden_channels_encoder': 59, 'latent_space_dim': 247, 'hidden_channels_predictor': 238, 'dropout_rate': 0.09512929164267463}. Best is trial 4 with value: 1.3124377121034494.\n",
            "[I 2024-03-23 16:17:05,188] Trial 8 finished with value: 3.469356154125951 and parameters: {'hidden_channels_encoder': 128, 'latent_space_dim': 148, 'hidden_channels_predictor': 94, 'dropout_rate': 0.7878865245215043}. Best is trial 4 with value: 1.3124377121034494.\n",
            "[I 2024-03-23 16:17:20,524] Trial 9 finished with value: 1.5294679709233445 and parameters: {'hidden_channels_encoder': 109, 'latent_space_dim': 147, 'hidden_channels_predictor': 248, 'dropout_rate': 0.1335810369792123}. Best is trial 4 with value: 1.3124377121034494.\n",
            "[I 2024-03-23 16:17:36,577] Trial 10 finished with value: 3.6166861223701616 and parameters: {'hidden_channels_encoder': 247, 'latent_space_dim': 204, 'hidden_channels_predictor': 33, 'dropout_rate': 0.590913855388414}. Best is trial 4 with value: 1.3124377121034494.\n",
            "[I 2024-03-23 16:17:52,787] Trial 11 finished with value: 1.3619456180294025 and parameters: {'hidden_channels_encoder': 122, 'latent_space_dim': 205, 'hidden_channels_predictor': 203, 'dropout_rate': 0.058487184581755544}. Best is trial 4 with value: 1.3124377121034494.\n",
            "[I 2024-03-23 16:18:07,595] Trial 12 finished with value: 1.4520673713980397 and parameters: {'hidden_channels_encoder': 104, 'latent_space_dim': 214, 'hidden_channels_predictor': 196, 'dropout_rate': 0.019143923851145273}. Best is trial 4 with value: 1.3124377121034494.\n",
            "[I 2024-03-23 16:18:25,389] Trial 13 finished with value: 1.4181865963066982 and parameters: {'hidden_channels_encoder': 141, 'latent_space_dim': 209, 'hidden_channels_predictor': 199, 'dropout_rate': 0.1928198975811366}. Best is trial 4 with value: 1.3124377121034494.\n",
            "[I 2024-03-23 16:18:43,137] Trial 14 finished with value: 1.6308929029469739 and parameters: {'hidden_channels_encoder': 212, 'latent_space_dim': 230, 'hidden_channels_predictor': 126, 'dropout_rate': 0.016875488555418316}. Best is trial 4 with value: 1.3124377121034494.\n",
            "[I 2024-03-23 16:18:56,817] Trial 15 finished with value: 2.2904397010761155 and parameters: {'hidden_channels_encoder': 87, 'latent_space_dim': 184, 'hidden_channels_predictor': 197, 'dropout_rate': 0.5646568334252304}. Best is trial 4 with value: 1.3124377121034494.\n",
            "[I 2024-03-23 16:19:06,051] Trial 16 finished with value: 1.4414742934745473 and parameters: {'hidden_channels_encoder': 57, 'latent_space_dim': 189, 'hidden_channels_predictor': 127, 'dropout_rate': 0.20594286404210407}. Best is trial 4 with value: 1.3124377121034494.\n",
            "[I 2024-03-23 16:19:26,051] Trial 17 finished with value: 2.9799295773185603 and parameters: {'hidden_channels_encoder': 122, 'latent_space_dim': 253, 'hidden_channels_predictor': 217, 'dropout_rate': 0.5556407176949628}. Best is trial 4 with value: 1.3124377121034494.\n",
            "[I 2024-03-23 16:19:36,452] Trial 18 finished with value: 1.6003499857614956 and parameters: {'hidden_channels_encoder': 32, 'latent_space_dim': 219, 'hidden_channels_predictor': 166, 'dropout_rate': 0.09657689304531014}. Best is trial 4 with value: 1.3124377121034494.\n",
            "[I 2024-03-23 16:19:45,953] Trial 19 finished with value: 2.150014320876372 and parameters: {'hidden_channels_encoder': 85, 'latent_space_dim': 172, 'hidden_channels_predictor': 128, 'dropout_rate': 0.23198157738227088}. Best is trial 4 with value: 1.3124377121034494.\n",
            "[I 2024-03-23 16:20:06,824] Trial 20 finished with value: 1.9123843473855864 and parameters: {'hidden_channels_encoder': 149, 'latent_space_dim': 232, 'hidden_channels_predictor': 220, 'dropout_rate': 0.4452901932913073}. Best is trial 4 with value: 1.3124377121034494.\n",
            "[I 2024-03-23 16:20:22,933] Trial 21 finished with value: 1.5566768192144957 and parameters: {'hidden_channels_encoder': 134, 'latent_space_dim': 202, 'hidden_channels_predictor': 192, 'dropout_rate': 0.17040497070390845}. Best is trial 4 with value: 1.3124377121034494.\n",
            "[I 2024-03-23 16:20:41,205] Trial 22 finished with value: 1.2189266781645558 and parameters: {'hidden_channels_encoder': 153, 'latent_space_dim': 231, 'hidden_channels_predictor': 178, 'dropout_rate': 0.001323384943275073}. Best is trial 22 with value: 1.2189266781645558.\n",
            "[I 2024-03-23 16:21:00,685] Trial 23 finished with value: 1.039097740836882 and parameters: {'hidden_channels_encoder': 199, 'latent_space_dim': 233, 'hidden_channels_predictor': 164, 'dropout_rate': 0.025169147399634488}. Best is trial 23 with value: 1.039097740836882.\n",
            "[I 2024-03-23 16:21:22,077] Trial 24 finished with value: 1.6112702506328604 and parameters: {'hidden_channels_encoder': 198, 'latent_space_dim': 237, 'hidden_channels_predictor': 173, 'dropout_rate': 0.011077836384219044}. Best is trial 23 with value: 1.039097740836882.\n",
            "[I 2024-03-23 16:21:44,133] Trial 25 finished with value: 1.5135820861599143 and parameters: {'hidden_channels_encoder': 227, 'latent_space_dim': 256, 'hidden_channels_predictor': 144, 'dropout_rate': 0.11107742424284481}. Best is trial 23 with value: 1.039097740836882.\n",
            "[I 2024-03-23 16:22:01,445] Trial 26 finished with value: 1.6317034167421438 and parameters: {'hidden_channels_encoder': 199, 'latent_space_dim': 230, 'hidden_channels_predictor': 116, 'dropout_rate': 0.0001382820842295439}. Best is trial 23 with value: 1.039097740836882.\n",
            "[I 2024-03-23 16:22:14,306] Trial 27 finished with value: 1.6473475389744796 and parameters: {'hidden_channels_encoder': 155, 'latent_space_dim': 121, 'hidden_channels_predictor': 155, 'dropout_rate': 0.2746148735104123}. Best is trial 23 with value: 1.039097740836882.\n",
            "[I 2024-03-23 16:22:29,405] Trial 28 finished with value: 1.7001933187213016 and parameters: {'hidden_channels_encoder': 237, 'latent_space_dim': 36, 'hidden_channels_predictor': 178, 'dropout_rate': 0.1284722702811675}. Best is trial 23 with value: 1.039097740836882.\n",
            "[I 2024-03-23 16:22:44,493] Trial 29 finished with value: 1.6955511282043556 and parameters: {'hidden_channels_encoder': 176, 'latent_space_dim': 183, 'hidden_channels_predictor': 141, 'dropout_rate': 0.2632341479164492}. Best is trial 23 with value: 1.039097740836882.\n",
            "[I 2024-03-23 16:23:05,332] Trial 30 finished with value: 2.582576217725398 and parameters: {'hidden_channels_encoder': 195, 'latent_space_dim': 223, 'hidden_channels_predictor': 181, 'dropout_rate': 0.3496220537508699}. Best is trial 23 with value: 1.039097740836882.\n",
            "[I 2024-03-23 16:23:25,038] Trial 31 finished with value: 1.652111732357313 and parameters: {'hidden_channels_encoder': 111, 'latent_space_dim': 239, 'hidden_channels_predictor': 226, 'dropout_rate': 0.055715111682279425}. Best is trial 23 with value: 1.039097740836882.\n",
            "[I 2024-03-23 16:23:40,791] Trial 32 finished with value: 1.3356962285346918 and parameters: {'hidden_channels_encoder': 157, 'latent_space_dim': 197, 'hidden_channels_predictor': 160, 'dropout_rate': 0.06756565493610743}. Best is trial 23 with value: 1.039097740836882.\n",
            "[I 2024-03-23 16:23:59,097] Trial 33 finished with value: 1.11672665214591 and parameters: {'hidden_channels_encoder': 160, 'latent_space_dim': 244, 'hidden_channels_predictor': 162, 'dropout_rate': 0.16183195516609472}. Best is trial 23 with value: 1.039097740836882.\n",
            "[I 2024-03-23 16:24:22,070] Trial 34 finished with value: 1.3477747441865777 and parameters: {'hidden_channels_encoder': 219, 'latent_space_dim': 246, 'hidden_channels_predictor': 181, 'dropout_rate': 0.14297211064830878}. Best is trial 23 with value: 1.039097740836882.\n",
            "[I 2024-03-23 16:24:38,120] Trial 35 finished with value: 1.6452158383832673 and parameters: {'hidden_channels_encoder': 189, 'latent_space_dim': 221, 'hidden_channels_predictor': 114, 'dropout_rate': 0.1751171923823611}. Best is trial 23 with value: 1.039097740836882.\n",
            "[I 2024-03-23 16:24:56,388] Trial 36 finished with value: 1.907559101745095 and parameters: {'hidden_channels_encoder': 164, 'latent_space_dim': 256, 'hidden_channels_predictor': 144, 'dropout_rate': 0.30638582126563596}. Best is trial 23 with value: 1.039097740836882.\n",
            "[I 2024-03-23 16:25:05,817] Trial 37 finished with value: 1.8197665026802567 and parameters: {'hidden_channels_encoder': 177, 'latent_space_dim': 59, 'hidden_channels_predictor': 105, 'dropout_rate': 0.06254413243500087}. Best is trial 23 with value: 1.039097740836882.\n",
            "[I 2024-03-23 16:25:21,888] Trial 38 finished with value: 2.722200132231868 and parameters: {'hidden_channels_encoder': 208, 'latent_space_dim': 240, 'hidden_channels_predictor': 70, 'dropout_rate': 0.5167912399248453}. Best is trial 23 with value: 1.039097740836882.\n",
            "[I 2024-03-23 16:25:28,570] Trial 39 finished with value: 2.2705792121302553 and parameters: {'hidden_channels_encoder': 49, 'latent_space_dim': 76, 'hidden_channels_predictor': 160, 'dropout_rate': 0.7179238510414028}. Best is trial 23 with value: 1.039097740836882.\n",
            "[I 2024-03-23 16:25:42,838] Trial 40 finished with value: 1.8802419291526111 and parameters: {'hidden_channels_encoder': 141, 'latent_space_dim': 163, 'hidden_channels_predictor': 170, 'dropout_rate': 0.3851144942366432}. Best is trial 23 with value: 1.039097740836882.\n",
            "[I 2024-03-23 16:25:59,598] Trial 41 finished with value: 1.7334541313278757 and parameters: {'hidden_channels_encoder': 165, 'latent_space_dim': 195, 'hidden_channels_predictor': 156, 'dropout_rate': 0.059396892119591364}. Best is trial 23 with value: 1.039097740836882.\n",
            "[I 2024-03-23 16:26:16,590] Trial 42 finished with value: 1.3483623175565684 and parameters: {'hidden_channels_encoder': 157, 'latent_space_dim': 243, 'hidden_channels_predictor': 137, 'dropout_rate': 0.08108198056226702}. Best is trial 23 with value: 1.039097740836882.\n",
            "[I 2024-03-23 16:26:35,391] Trial 43 finished with value: 1.3409552881999094 and parameters: {'hidden_channels_encoder': 150, 'latent_space_dim': 224, 'hidden_channels_predictor': 185, 'dropout_rate': 0.14136556440586084}. Best is trial 23 with value: 1.039097740836882.\n",
            "[I 2024-03-23 16:26:53,392] Trial 44 finished with value: 1.6304932314103158 and parameters: {'hidden_channels_encoder': 183, 'latent_space_dim': 214, 'hidden_channels_predictor': 162, 'dropout_rate': 0.04553300610965652}. Best is trial 23 with value: 1.039097740836882.\n",
            "[I 2024-03-23 16:27:10,058] Trial 45 finished with value: 1.6902143307251656 and parameters: {'hidden_channels_encoder': 171, 'latent_space_dim': 132, 'hidden_channels_predictor': 208, 'dropout_rate': 0.21989467960536033}. Best is trial 23 with value: 1.039097740836882.\n",
            "[I 2024-03-23 16:27:34,571] Trial 46 finished with value: 1.1809922891371558 and parameters: {'hidden_channels_encoder': 255, 'latent_space_dim': 247, 'hidden_channels_predictor': 153, 'dropout_rate': 0.10188183586014904}. Best is trial 23 with value: 1.039097740836882.\n",
            "[I 2024-03-23 16:27:57,966] Trial 47 finished with value: 1.4313008827221685 and parameters: {'hidden_channels_encoder': 254, 'latent_space_dim': 247, 'hidden_channels_predictor': 151, 'dropout_rate': 0.10926868370066234}. Best is trial 23 with value: 1.039097740836882.\n",
            "[I 2024-03-23 16:28:10,213] Trial 48 finished with value: 1.6186985806521756 and parameters: {'hidden_channels_encoder': 97, 'latent_space_dim': 229, 'hidden_channels_predictor': 132, 'dropout_rate': 0.15478238833746458}. Best is trial 23 with value: 1.039097740836882.\n",
            "[I 2024-03-23 16:28:33,584] Trial 49 finished with value: 1.2692030046836065 and parameters: {'hidden_channels_encoder': 236, 'latent_space_dim': 211, 'hidden_channels_predictor': 189, 'dropout_rate': 0.03253315511299629}. Best is trial 23 with value: 1.039097740836882.\n"
          ]
        }
      ],
      "source": [
        "#GraphSAGE\n",
        "trainer = hyperparameter_optimization.GraphStudy(train_data_1, train_data_2, val_data_1, val_data_2, train_data_final, data, flag=2, EPOCHS=30, LR=0.0001)\n",
        "study, best_model = trainer.run_study(n_trials=50)"
      ]
    },
    {
      "cell_type": "markdown",
      "metadata": {
        "id": "XmjvydGu9aGI"
      },
      "source": [
        "Evaluate the Model"
      ]
    },
    {
      "cell_type": "code",
      "execution_count": null,
      "metadata": {
        "colab": {
          "base_uri": "https://localhost:8080/"
        },
        "id": "Fh9YsVwd9du5",
        "outputId": "ee2b2431-23ec-46cd-a880-338d0b87c5f6"
      },
      "outputs": [
        {
          "name": "stdout",
          "output_type": "stream",
          "text": [
            "Test MAE score: 3.21\n",
            "Test RMSE score: 3.50\n"
          ]
        }
      ],
      "source": [
        "best_model.eval()\n",
        "with torch.no_grad():\n",
        "    test_output = best_model(test_data.x_dict, test_data.edge_index_dict, test_data['user', 'rating', 'movie'].edge_label_index, test_data)\n",
        "preds = test_output.squeeze()\n",
        "labels = test_data['user', 'rating', 'movie'].edge_label\n",
        "mae = F.l1_loss(preds.double(), labels)\n",
        "rmse = torch.sqrt(F.mse_loss(preds.double(), labels)).item()\n",
        "\n",
        "print(f'Test MAE score: {(mae.detach().item()):.2f}')\n",
        "print(f'Test RMSE score: {rmse:.2f}')"
      ]
    },
    {
      "cell_type": "markdown",
      "metadata": {
        "id": "9cROPR369gJ0"
      },
      "source": [
        "Create the Classification Matrix"
      ]
    },
    {
      "cell_type": "code",
      "execution_count": null,
      "metadata": {
        "colab": {
          "base_uri": "https://localhost:8080/"
        },
        "id": "IR_oBgHN9jM1",
        "outputId": "b8ef1f21-33a1-4083-9863-e75460b077c4"
      },
      "outputs": [
        {
          "name": "stdout",
          "output_type": "stream",
          "text": [
            "              precision    recall  f1-score   support\n",
            "\n",
            "         1.0       0.04      0.85      0.07        41\n",
            "         2.0       0.00      0.00      0.00        85\n",
            "         3.0       0.26      0.02      0.04       305\n",
            "         4.0       0.34      0.08      0.13       508\n",
            "         5.0       0.00      0.00      0.00       191\n",
            "\n",
            "    accuracy                           0.07      1130\n",
            "   macro avg       0.13      0.19      0.05      1130\n",
            "weighted avg       0.22      0.07      0.07      1130\n",
            "\n"
          ]
        },
        {
          "name": "stderr",
          "output_type": "stream",
          "text": [
            "/usr/local/lib/python3.10/dist-packages/sklearn/metrics/_classification.py:1344: UndefinedMetricWarning: Precision and F-score are ill-defined and being set to 0.0 in labels with no predicted samples. Use `zero_division` parameter to control this behavior.\n",
            "  _warn_prf(average, modifier, msg_start, len(result))\n",
            "/usr/local/lib/python3.10/dist-packages/sklearn/metrics/_classification.py:1344: UndefinedMetricWarning: Precision and F-score are ill-defined and being set to 0.0 in labels with no predicted samples. Use `zero_division` parameter to control this behavior.\n",
            "  _warn_prf(average, modifier, msg_start, len(result))\n",
            "/usr/local/lib/python3.10/dist-packages/sklearn/metrics/_classification.py:1344: UndefinedMetricWarning: Precision and F-score are ill-defined and being set to 0.0 in labels with no predicted samples. Use `zero_division` parameter to control this behavior.\n",
            "  _warn_prf(average, modifier, msg_start, len(result))\n"
          ]
        }
      ],
      "source": [
        "round_preds = np.round(preds.detach().numpy())\n",
        "preds_rounded = np.where(round_preds < 1, 1, np.where(round_preds > 5, 5, round_preds))\n",
        "print(classification_report(y_true=labels, y_pred=preds_rounded))"
      ]
    },
    {
      "cell_type": "markdown",
      "metadata": {
        "id": "HS6xxX9j9mng"
      },
      "source": [
        "Plot the Confusion Matrix"
      ]
    },
    {
      "cell_type": "code",
      "execution_count": null,
      "metadata": {
        "colab": {
          "base_uri": "https://localhost:8080/"
        },
        "id": "fTUAcgSc9prw",
        "outputId": "4bd5a15a-35ca-422c-ef66-129c84389133"
      },
      "outputs": [
        {
          "data": {
            "image/png": "[encoded data removed]",
            "text/plain": [
              "<Figure size 1000x1000 with 2 Axes>"
            ]
          },
          "metadata": {},
          "output_type": "display_data"
        }
      ],
      "source": [
        "# Convert labels to unique values\n",
        "labels_tensor = labels\n",
        "unique_labels = np.unique(labels)\n",
        "\n",
        "# Assuming y_pred and y_test are numpy arrays\n",
        "# Assuming preds_rounded is defined\n",
        "y_pred = preds_rounded\n",
        "y_test = labels\n",
        "\n",
        "# Calculate confusion matrix\n",
        "cm = confusion_matrix(labels, y_pred)\n",
        "\n",
        "# Plot confusion matrix\n",
        "disp = ConfusionMatrixDisplay(confusion_matrix=cm, display_labels=unique_labels)\n",
        "fig, ax = plt.subplots(figsize=(10, 10))\n",
        "disp.plot(ax=ax)\n",
        "plt.show()\n"
      ]
    },
    {
      "cell_type": "markdown",
      "metadata": {
        "id": "wPEfekmu94et"
      },
      "source": [
        "### **GAT**"
      ]
    },
    {
      "cell_type": "markdown",
      "metadata": {
        "id": "wmsXhHg896Ke"
      },
      "source": [
        "Train the Model"
      ]
    },
    {
      "cell_type": "code",
      "execution_count": null,
      "metadata": {
        "colab": {
          "background_save": true,
          "base_uri": "https://localhost:8080/"
        },
        "id": "Cvo3YGKgy6vx",
        "outputId": "1a3582cd-ac55-44d9-8189-8565154c3165"
      },
      "outputs": [
        {
          "name": "stderr",
          "output_type": "stream",
          "text": [
            "[I 2024-03-23 16:28:51,301] A new study created in memory with name: no-name-8b114ca5-3adb-4331-aa4f-7bd201b9e224\n",
            "[I 2024-03-23 16:30:14,493] Trial 0 finished with value: 1.6860931753157156 and parameters: {'hidden_channels_encoder': 246, 'latent_space_dim': 246, 'hidden_channels_predictor': 39, 'dropout_rate': 0.34328613153483617}. Best is trial 0 with value: 1.6860931753157156.\n",
            "[I 2024-03-23 16:30:56,390] Trial 1 finished with value: 2.259318700459073 and parameters: {'hidden_channels_encoder': 141, 'latent_space_dim': 235, 'hidden_channels_predictor': 92, 'dropout_rate': 0.6138818804403725}. Best is trial 0 with value: 1.6860931753157156.\n",
            "[I 2024-03-23 16:31:19,203] Trial 2 finished with value: 2.5710621172439416 and parameters: {'hidden_channels_encoder': 112, 'latent_space_dim': 45, 'hidden_channels_predictor': 86, 'dropout_rate': 0.49777114018969465}. Best is trial 0 with value: 1.6860931753157156.\n",
            "[I 2024-03-23 16:31:50,610] Trial 3 finished with value: 2.537948429218053 and parameters: {'hidden_channels_encoder': 72, 'latent_space_dim': 254, 'hidden_channels_predictor': 245, 'dropout_rate': 0.4482749693769074}. Best is trial 0 with value: 1.6860931753157156.\n",
            "[I 2024-03-23 16:33:14,819] Trial 4 finished with value: 1.9814692003037215 and parameters: {'hidden_channels_encoder': 253, 'latent_space_dim': 137, 'hidden_channels_predictor': 161, 'dropout_rate': 0.41120365064109166}. Best is trial 0 with value: 1.6860931753157156.\n",
            "[I 2024-03-23 16:34:15,635] Trial 5 finished with value: 3.5535874977708013 and parameters: {'hidden_channels_encoder': 175, 'latent_space_dim': 238, 'hidden_channels_predictor': 222, 'dropout_rate': 0.8559255667898052}. Best is trial 0 with value: 1.6860931753157156.\n",
            "[I 2024-03-23 16:35:23,043] Trial 6 finished with value: 1.2792828339284894 and parameters: {'hidden_channels_encoder': 220, 'latent_space_dim': 204, 'hidden_channels_predictor': 56, 'dropout_rate': 0.25318239391292274}. Best is trial 6 with value: 1.2792828339284894.\n",
            "[I 2024-03-23 16:35:54,302] Trial 7 finished with value: 2.6658300883898836 and parameters: {'hidden_channels_encoder': 123, 'latent_space_dim': 42, 'hidden_channels_predictor': 251, 'dropout_rate': 0.7217488643060609}. Best is trial 6 with value: 1.2792828339284894.\n",
            "[I 2024-03-23 16:36:07,076] Trial 8 finished with value: 4.323607134080853 and parameters: {'hidden_channels_encoder': 63, 'latent_space_dim': 56, 'hidden_channels_predictor': 82, 'dropout_rate': 0.7962182710113821}. Best is trial 6 with value: 1.2792828339284894.\n",
            "[I 2024-03-23 16:36:26,617] Trial 9 finished with value: 1.7423625346265197 and parameters: {'hidden_channels_encoder': 88, 'latent_space_dim': 71, 'hidden_channels_predictor': 110, 'dropout_rate': 0.1006966774543756}. Best is trial 6 with value: 1.2792828339284894.\n",
            "[I 2024-03-23 16:37:15,714] Trial 10 finished with value: 1.0514262190963577 and parameters: {'hidden_channels_encoder': 184, 'latent_space_dim': 179, 'hidden_channels_predictor': 35, 'dropout_rate': 0.05981708287692247}. Best is trial 10 with value: 1.0514262190963577.\n",
            "[I 2024-03-23 16:38:14,349] Trial 11 finished with value: 1.0381298928416804 and parameters: {'hidden_channels_encoder': 198, 'latent_space_dim': 183, 'hidden_channels_predictor': 41, 'dropout_rate': 0.00586673024522591}. Best is trial 11 with value: 1.0381298928416804.\n",
            "[I 2024-03-23 16:39:07,549] Trial 12 finished with value: 1.0510648961388078 and parameters: {'hidden_channels_encoder': 181, 'latent_space_dim': 169, 'hidden_channels_predictor': 158, 'dropout_rate': 0.01608810060964344}. Best is trial 11 with value: 1.0381298928416804.\n",
            "[I 2024-03-23 16:40:02,195] Trial 13 finished with value: 0.927529054830831 and parameters: {'hidden_channels_encoder': 186, 'latent_space_dim': 135, 'hidden_channels_predictor': 161, 'dropout_rate': 0.0036220586534814695}. Best is trial 13 with value: 0.927529054830831.\n",
            "[I 2024-03-23 16:41:05,977] Trial 14 finished with value: 1.13452282691109 and parameters: {'hidden_channels_encoder': 212, 'latent_space_dim': 114, 'hidden_channels_predictor': 190, 'dropout_rate': 0.20582363892386696}. Best is trial 13 with value: 0.927529054830831.\n",
            "[I 2024-03-23 16:41:47,037] Trial 15 finished with value: 1.0742802885941978 and parameters: {'hidden_channels_encoder': 160, 'latent_space_dim': 100, 'hidden_channels_predictor': 135, 'dropout_rate': 0.15366604898765215}. Best is trial 13 with value: 0.927529054830831.\n",
            "[I 2024-03-23 16:42:51,953] Trial 16 finished with value: 1.3663399568439738 and parameters: {'hidden_channels_encoder': 209, 'latent_space_dim': 148, 'hidden_channels_predictor': 186, 'dropout_rate': 0.27957612130972437}. Best is trial 13 with value: 0.927529054830831.\n",
            "[I 2024-03-23 16:44:02,457] Trial 17 finished with value: 1.5278045631023567 and parameters: {'hidden_channels_encoder': 203, 'latent_space_dim': 205, 'hidden_channels_predictor': 128, 'dropout_rate': 0.1411884311804898}. Best is trial 13 with value: 0.927529054830831.\n",
            "[I 2024-03-23 16:44:16,320] Trial 18 finished with value: 1.149309409252355 and parameters: {'hidden_channels_encoder': 33, 'latent_space_dim': 106, 'hidden_channels_predictor': 189, 'dropout_rate': 0.02052266028503543}. Best is trial 13 with value: 0.927529054830831.\n",
            "[I 2024-03-23 16:45:00,339] Trial 19 finished with value: 2.806934747243794 and parameters: {'hidden_channels_encoder': 145, 'latent_space_dim': 142, 'hidden_channels_predictor': 216, 'dropout_rate': 0.5600960394514689}. Best is trial 13 with value: 0.927529054830831.\n",
            "[I 2024-03-23 16:45:46,536] Trial 20 finished with value: 2.2726640978336317 and parameters: {'hidden_channels_encoder': 160, 'latent_space_dim': 190, 'hidden_channels_predictor': 151, 'dropout_rate': 0.33028666288580133}. Best is trial 13 with value: 0.927529054830831.\n",
            "[I 2024-03-23 16:46:41,220] Trial 21 finished with value: 1.0727815444695312 and parameters: {'hidden_channels_encoder': 186, 'latent_space_dim': 164, 'hidden_channels_predictor': 168, 'dropout_rate': 0.0036646384983416358}. Best is trial 13 with value: 0.927529054830831.\n",
            "[I 2024-03-23 16:47:52,475] Trial 22 finished with value: 0.983272925884797 and parameters: {'hidden_channels_encoder': 230, 'latent_space_dim': 166, 'hidden_channels_predictor': 118, 'dropout_rate': 0.10797105957915824}. Best is trial 13 with value: 0.927529054830831.\n",
            "[I 2024-03-23 16:49:10,692] Trial 23 finished with value: 1.2619082347144004 and parameters: {'hidden_channels_encoder': 235, 'latent_space_dim': 210, 'hidden_channels_predictor': 117, 'dropout_rate': 0.16134803450674667}. Best is trial 13 with value: 0.927529054830831.\n",
            "[I 2024-03-23 16:50:18,119] Trial 24 finished with value: 0.9831442123662829 and parameters: {'hidden_channels_encoder': 234, 'latent_space_dim': 125, 'hidden_channels_predictor': 63, 'dropout_rate': 0.08919542658193813}. Best is trial 13 with value: 0.927529054830831.\n",
            "[I 2024-03-23 16:51:25,176] Trial 25 finished with value: 1.0974505801173 and parameters: {'hidden_channels_encoder': 231, 'latent_space_dim': 122, 'hidden_channels_predictor': 63, 'dropout_rate': 0.09612250973626654}. Best is trial 13 with value: 0.927529054830831.\n",
            "[I 2024-03-23 16:52:38,411] Trial 26 finished with value: 1.2068686937106015 and parameters: {'hidden_channels_encoder': 235, 'latent_space_dim': 157, 'hidden_channels_predictor': 105, 'dropout_rate': 0.20890659245379287}. Best is trial 13 with value: 0.927529054830831.\n",
            "[I 2024-03-23 16:53:45,424] Trial 27 finished with value: 1.186268603487168 and parameters: {'hidden_channels_encoder': 228, 'latent_space_dim': 134, 'hidden_channels_predictor': 141, 'dropout_rate': 0.08545634951824183}. Best is trial 13 with value: 0.927529054830831.\n",
            "[I 2024-03-23 16:55:01,712] Trial 28 finished with value: 1.138641915854964 and parameters: {'hidden_channels_encoder': 255, 'latent_space_dim': 90, 'hidden_channels_predictor': 72, 'dropout_rate': 0.2099622683485384}. Best is trial 13 with value: 0.927529054830831.\n",
            "[I 2024-03-23 16:56:11,504] Trial 29 finished with value: 1.8989918276083135 and parameters: {'hidden_channels_encoder': 243, 'latent_space_dim': 81, 'hidden_channels_predictor': 99, 'dropout_rate': 0.32559593391376607}. Best is trial 13 with value: 0.927529054830831.\n",
            "[I 2024-03-23 16:57:14,090] Trial 30 finished with value: 2.2466434592993973 and parameters: {'hidden_channels_encoder': 219, 'latent_space_dim': 126, 'hidden_channels_predictor': 125, 'dropout_rate': 0.38820906539368577}. Best is trial 13 with value: 0.927529054830831.\n",
            "[I 2024-03-23 16:58:07,747] Trial 31 finished with value: 1.2193603331705556 and parameters: {'hidden_channels_encoder': 200, 'latent_space_dim': 173, 'hidden_channels_predictor': 49, 'dropout_rate': 0.05734645618899322}. Best is trial 13 with value: 0.927529054830831.\n",
            "[I 2024-03-23 16:59:03,496] Trial 32 finished with value: 1.6520532774391787 and parameters: {'hidden_channels_encoder': 197, 'latent_space_dim': 188, 'hidden_channels_predictor': 32, 'dropout_rate': 0.13368557231183587}. Best is trial 13 with value: 0.927529054830831.\n",
            "[I 2024-03-23 16:59:43,158] Trial 33 finished with value: 1.1394613866901686 and parameters: {'hidden_channels_encoder': 159, 'latent_space_dim': 152, 'hidden_channels_predictor': 45, 'dropout_rate': 0.05465650067750424}. Best is trial 13 with value: 0.927529054830831.\n",
            "[I 2024-03-23 17:00:41,597] Trial 34 finished with value: 0.936118655293164 and parameters: {'hidden_channels_encoder': 195, 'latent_space_dim': 222, 'hidden_channels_predictor': 73, 'dropout_rate': 0.0007225972171737947}. Best is trial 13 with value: 0.927529054830831.\n",
            "[I 2024-03-23 17:02:01,607] Trial 35 finished with value: 1.1722602133612166 and parameters: {'hidden_channels_encoder': 243, 'latent_space_dim': 225, 'hidden_channels_predictor': 77, 'dropout_rate': 0.245167960359954}. Best is trial 13 with value: 0.927529054830831.\n",
            "[I 2024-03-23 17:02:57,993] Trial 36 finished with value: 1.0725268516362823 and parameters: {'hidden_channels_encoder': 170, 'latent_space_dim': 254, 'hidden_channels_predictor': 172, 'dropout_rate': 0.12267123727925575}. Best is trial 13 with value: 0.927529054830831.\n",
            "[I 2024-03-23 17:04:06,411] Trial 37 finished with value: 1.2709020588714872 and parameters: {'hidden_channels_encoder': 221, 'latent_space_dim': 222, 'hidden_channels_predictor': 92, 'dropout_rate': 0.17405567294167806}. Best is trial 13 with value: 0.927529054830831.\n",
            "[I 2024-03-23 17:04:56,637] Trial 38 finished with value: 2.6680596139478894 and parameters: {'hidden_channels_encoder': 190, 'latent_space_dim': 128, 'hidden_channels_predictor': 57, 'dropout_rate': 0.6123990449234217}. Best is trial 13 with value: 0.927529054830831.\n",
            "[I 2024-03-23 17:05:35,348] Trial 39 finished with value: 0.9450822083500964 and parameters: {'hidden_channels_encoder': 133, 'latent_space_dim': 242, 'hidden_channels_predictor': 68, 'dropout_rate': 0.05841215897741619}. Best is trial 13 with value: 0.927529054830831.\n",
            "[I 2024-03-23 17:06:09,530] Trial 40 finished with value: 2.743373611261886 and parameters: {'hidden_channels_encoder': 121, 'latent_space_dim': 239, 'hidden_channels_predictor': 67, 'dropout_rate': 0.49058980140422276}. Best is trial 13 with value: 0.927529054830831.\n",
            "[I 2024-03-23 17:06:49,115] Trial 41 finished with value: 1.271072757406528 and parameters: {'hidden_channels_encoder': 144, 'latent_space_dim': 224, 'hidden_channels_predictor': 86, 'dropout_rate': 0.054615335233226925}. Best is trial 13 with value: 0.927529054830831.\n",
            "[I 2024-03-23 17:07:20,980] Trial 42 finished with value: 1.0578508036317786 and parameters: {'hidden_channels_encoder': 108, 'latent_space_dim': 246, 'hidden_channels_predictor': 98, 'dropout_rate': 0.06043399511543216}. Best is trial 13 with value: 0.927529054830831.\n",
            "[I 2024-03-23 17:07:56,068] Trial 43 finished with value: 1.268930441953795 and parameters: {'hidden_channels_encoder': 131, 'latent_space_dim': 215, 'hidden_channels_predictor': 56, 'dropout_rate': 0.09295313878314226}. Best is trial 13 with value: 0.927529054830831.\n",
            "[I 2024-03-23 17:09:00,983] Trial 44 finished with value: 1.1282349183734086 and parameters: {'hidden_channels_encoder': 213, 'latent_space_dim': 199, 'hidden_channels_predictor': 114, 'dropout_rate': 0.029696492970667017}. Best is trial 13 with value: 0.927529054830831.\n",
            "[I 2024-03-23 17:09:43,872] Trial 45 finished with value: 1.213144521241975 and parameters: {'hidden_channels_encoder': 170, 'latent_space_dim': 116, 'hidden_channels_predictor': 80, 'dropout_rate': 0.10920331185156801}. Best is trial 13 with value: 0.927529054830831.\n",
            "[I 2024-03-23 17:10:34,094] Trial 46 finished with value: 3.3807500759133697 and parameters: {'hidden_channels_encoder': 149, 'latent_space_dim': 233, 'hidden_channels_predictor': 205, 'dropout_rate': 0.6984741774099332}. Best is trial 13 with value: 0.927529054830831.\n",
            "[I 2024-03-23 17:11:08,688] Trial 47 finished with value: 1.703034674551873 and parameters: {'hidden_channels_encoder': 133, 'latent_space_dim': 59, 'hidden_channels_predictor': 237, 'dropout_rate': 0.2579434350077334}. Best is trial 13 with value: 0.927529054830831.\n",
            "[I 2024-03-23 17:11:40,818] Trial 48 finished with value: 1.0079686866067405 and parameters: {'hidden_channels_encoder': 97, 'latent_space_dim': 256, 'hidden_channels_predictor': 150, 'dropout_rate': 0.005550877261918143}. Best is trial 13 with value: 0.927529054830831.\n",
            "[I 2024-03-23 17:12:50,592] Trial 49 finished with value: 1.0271381159880952 and parameters: {'hidden_channels_encoder': 223, 'latent_space_dim': 159, 'hidden_channels_predictor': 176, 'dropout_rate': 0.17556081285021713}. Best is trial 13 with value: 0.927529054830831.\n"
          ]
        }
      ],
      "source": [
        "#GAT\n",
        "trainer = hyperparameter_optimization.GraphStudy(train_data_1, train_data_2, val_data_1, val_data_2, train_data_final, data, flag=3, EPOCHS=30, LR=0.0001)\n",
        "study, best_model = trainer.run_study(n_trials=50)"
      ]
    },
    {
      "cell_type": "markdown",
      "metadata": {
        "id": "NB7BFggK9-jt"
      },
      "source": [
        "Evaluate the Model"
      ]
    },
    {
      "cell_type": "code",
      "execution_count": null,
      "metadata": {
        "colab": {
          "background_save": true
        },
        "id": "pIzsc4S-9_n6",
        "outputId": "92f64162-54d9-4173-bc43-7b8b47cbdaf7"
      },
      "outputs": [
        {
          "name": "stdout",
          "output_type": "stream",
          "text": [
            "Test MAE score: 1.27\n",
            "Test RMSE score: 1.71\n"
          ]
        }
      ],
      "source": [
        "best_model.eval()\n",
        "with torch.no_grad():\n",
        "    test_output = best_model(test_data.x_dict, test_data.edge_index_dict, test_data['user', 'rating', 'movie'].edge_label_index, test_data)\n",
        "preds = test_output.squeeze()\n",
        "labels = test_data['user', 'rating', 'movie'].edge_label\n",
        "mae = F.l1_loss(preds.double(), labels)\n",
        "rmse = torch.sqrt(F.mse_loss(preds.double(), labels)).item()\n",
        "\n",
        "print(f'Test MAE score: {(mae.detach().item()):.2f}')\n",
        "print(f'Test RMSE score: {rmse:.2f}')"
      ]
    },
    {
      "cell_type": "markdown",
      "metadata": {
        "id": "WGl5vDT3-AU-"
      },
      "source": [
        "Create the Classification Report"
      ]
    },
    {
      "cell_type": "code",
      "execution_count": null,
      "metadata": {
        "colab": {
          "background_save": true
        },
        "id": "qUPDa50d-CYd",
        "outputId": "e4437500-26b5-4830-972e-d164a96194d4"
      },
      "outputs": [
        {
          "name": "stdout",
          "output_type": "stream",
          "text": [
            "              precision    recall  f1-score   support\n",
            "\n",
            "         1.0       0.04      0.15      0.06        41\n",
            "         2.0       0.02      0.01      0.01        85\n",
            "         3.0       0.29      0.57      0.38       305\n",
            "         4.0       0.43      0.27      0.33       508\n",
            "         5.0       0.00      0.00      0.00       191\n",
            "\n",
            "    accuracy                           0.28      1130\n",
            "   macro avg       0.16      0.20      0.16      1130\n",
            "weighted avg       0.27      0.28      0.26      1130\n",
            "\n"
          ]
        },
        {
          "name": "stderr",
          "output_type": "stream",
          "text": [
            "/usr/local/lib/python3.10/dist-packages/sklearn/metrics/_classification.py:1344: UndefinedMetricWarning: Precision and F-score are ill-defined and being set to 0.0 in labels with no predicted samples. Use `zero_division` parameter to control this behavior.\n",
            "  _warn_prf(average, modifier, msg_start, len(result))\n",
            "/usr/local/lib/python3.10/dist-packages/sklearn/metrics/_classification.py:1344: UndefinedMetricWarning: Precision and F-score are ill-defined and being set to 0.0 in labels with no predicted samples. Use `zero_division` parameter to control this behavior.\n",
            "  _warn_prf(average, modifier, msg_start, len(result))\n",
            "/usr/local/lib/python3.10/dist-packages/sklearn/metrics/_classification.py:1344: UndefinedMetricWarning: Precision and F-score are ill-defined and being set to 0.0 in labels with no predicted samples. Use `zero_division` parameter to control this behavior.\n",
            "  _warn_prf(average, modifier, msg_start, len(result))\n"
          ]
        }
      ],
      "source": [
        "round_preds = np.round(preds.detach().numpy())\n",
        "preds_rounded = np.where(round_preds < 1, 1, np.where(round_preds > 5, 5, round_preds))\n",
        "print(classification_report(y_true=labels, y_pred=preds_rounded))"
      ]
    },
    {
      "cell_type": "markdown",
      "metadata": {
        "id": "6B5uLkEs-E94"
      },
      "source": [
        "Plot the Confusion Matrix"
      ]
    },
    {
      "cell_type": "code",
      "execution_count": null,
      "metadata": {
        "colab": {
          "background_save": true
        },
        "id": "Ub8IO_nZ-Hxy",
        "outputId": "eb32e105-0500-4d1d-f8ca-46f33c8db8a9"
      },
      "outputs": [
        {
          "data": {
            "image/png": "[encoded data removed]",
            "text/plain": [
              "<Figure size 1000x1000 with 2 Axes>"
            ]
          },
          "metadata": {},
          "output_type": "display_data"
        }
      ],
      "source": [
        "# Convert labels to unique values\n",
        "labels_tensor = labels\n",
        "unique_labels = np.unique(labels)\n",
        "\n",
        "# Assuming y_pred and y_test are numpy arrays\n",
        "# Assuming preds_rounded is defined\n",
        "y_pred = preds_rounded\n",
        "y_test = labels\n",
        "\n",
        "# Calculate confusion matrix\n",
        "cm = confusion_matrix(labels, y_pred)\n",
        "\n",
        "# Plot confusion matrix\n",
        "disp = ConfusionMatrixDisplay(confusion_matrix=cm, display_labels=unique_labels)\n",
        "fig, ax = plt.subplots(figsize=(10, 10))\n",
        "disp.plot(ax=ax)\n",
        "plt.show()"
      ]
    }
  ],
  "metadata": {
    "colab": {
      "collapsed_sections": [
        "MNfiD2L2-gXF",
        "Wg8_PxPS-VQJ",
        "sw4d-d2O6nA_",
        "c_WVDU_Q0N_T",
        "QlzND6S71AOP",
        "VR7A0bK71tOh",
        "HokGQIRydIdl",
        "_poOteGK90Mv",
        "etxO8ceB9Ss4",
        "wPEfekmu94et"
      ],
      "provenance": []
    },
    "kernelspec": {
      "display_name": "Python 3",
      "name": "python3"
    },
    "language_info": {
      "name": "python"
    }
  },
  "nbformat": 4,
  "nbformat_minor": 0
}